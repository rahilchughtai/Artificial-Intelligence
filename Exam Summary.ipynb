{
 "cells": [
  {
   "cell_type": "markdown",
   "metadata": {},
   "source": [
    "# Zusammenfassung Klausur"
   ]
  },
  {
   "cell_type": "markdown",
   "metadata": {},
   "source": [
    "## Search"
   ]
  },
  {
   "cell_type": "code",
   "execution_count": null,
   "metadata": {},
   "outputs": [],
   "source": [
    "def path_to(state,Parent):\n",
    "    p=Parent[state]\n",
    "    return [state] if p==state else path_to(p,Parent)+[state]"
   ]
  },
  {
   "cell_type": "code",
   "execution_count": null,
   "metadata": {},
   "outputs": [],
   "source": [
    "def breadth_first_search(start,goal,next_states):\n",
    "    Parent={start:start}\n",
    "    Visited=set()\n",
    "    Frontier={start }\n",
    "    \n",
    "    while Frontier:\n",
    "        NewFrontier=set()\n",
    "        for state in Frontier:\n",
    "            for ns in next_states(state):\n",
    "                if ns not in Visited and ns not in Frontier:\n",
    "                    NewFrontier.add(ns)\n",
    "                    Parent[ns]=state\n",
    "                    if ns==goal:\n",
    "                        return path_to(ns,Parent)\n",
    "        Visited|=Frontier\n",
    "        Frontier=NewFrontier"
   ]
  },
  {
   "cell_type": "code",
   "execution_count": null,
   "metadata": {},
   "outputs": [],
   "source": [
    "def depth_first_search(start,goal,next_states):\n",
    "    Parent={state:state}\n",
    "    Stack=[state]    \n",
    "    while Stack:\n",
    "        state=Stack.pop()\n",
    "        for ns in next_states(state):\n",
    "            if ns not in Parent:\n",
    "                Stack.append(ns)\n",
    "                Parent[ns]=state\n",
    "                if ns==goal:\n",
    "                    return path_to(ns,Parent)\n",
    "                \n",
    "def path_to_iterative(state,Parent):\n",
    "    Path=[state]\n",
    "    while state!=Parent[substate]:\n",
    "        state=Parent[substate]\n",
    "        Path = [state]+ Path\n",
    "    return path"
   ]
  },
  {
   "cell_type": "markdown",
   "metadata": {},
   "source": [
    "### Example: Grid Path"
   ]
  },
  {
   "cell_type": "code",
   "execution_count": null,
   "metadata": {},
   "outputs": [],
   "source": [
    "from matplotlib import pyplot as plt\n",
    "def plot_grid(n, path):\n",
    "    plt.figure(figsize=(n,n))\n",
    "    x = [1]\n",
    "    y = [1]\n",
    "    plt.xlim(0, n)\n",
    "    plt.ylim(0, n)\n",
    "    plt.grid()\n",
    "    for x in range(n+1):\n",
    "        for y in range(n+1):\n",
    "            plt.plot(x, y, marker=\"o\", markersize=5, markeredgecolor=\"red\", markerfacecolor=\"red\")\n",
    "  \n",
    "    if not path:\n",
    "        return plt.show()\n",
    "    for p in path:\n",
    "        (x,y)=p\n",
    "        plt.plot(x, y, marker=\"o\", markersize=5, markeredgecolor=\"green\", markerfacecolor=\"green\")\n",
    "    plt.show()\n",
    "    \n",
    "plot_grid(3,[])"
   ]
  },
  {
   "cell_type": "code",
   "execution_count": null,
   "metadata": {},
   "outputs": [],
   "source": [
    "start=(0,0)\n",
    "goal=(3,3)\n",
    "def next_states_grid(state):\n",
    "    n=3\n",
    "    x,y=state\n",
    "    return { (x+i,y+j) for i in [0,1] for j in [0,1] if x+i<=n and y+j<=n and i!=j }\n",
    "\n",
    "path=breadth_first_search(start,goal,next_states_grid)\n",
    "plot_grid(3,path)"
   ]
  },
  {
   "cell_type": "markdown",
   "metadata": {},
   "source": [
    "# Z3 Solver"
   ]
  },
  {
   "cell_type": "code",
   "execution_count": 1,
   "metadata": {
    "scrolled": true
   },
   "outputs": [],
   "source": [
    "import z3"
   ]
  },
  {
   "cell_type": "code",
   "execution_count": 3,
   "metadata": {},
   "outputs": [
    {
     "name": "stdout",
     "output_type": "stream",
     "text": [
      "My father has 7 children.\n"
     ]
    }
   ],
   "source": [
    "S = z3.Solver()\n",
    "# define variables\n",
    "boys = z3.Int('boys')\n",
    "girls = z3.Int('girls')\n",
    "# add equations\n",
    "S.add(boys - 1 == girls)\n",
    "S.add(2 * (girls - 1) == boys)\n",
    "# check solution\n",
    "S.check()\n",
    "#create model\n",
    "solution = S.model()\n",
    "b = solution[boys ].as_long()\n",
    "g = solution[girls].as_long()\n",
    "print(f'My father has {b + g} children.')"
   ]
  },
  {
   "cell_type": "markdown",
   "metadata": {},
   "source": [
    "A Japanese deli offers both penguins and parrots.\n",
    "- A parrot and a penguin together cost 666 bucks.\n",
    "- The penguin costs 600 dollars more than the parrot.\n",
    "- What is the price of the parrot"
   ]
  },
  {
   "cell_type": "code",
   "execution_count": 16,
   "metadata": {},
   "outputs": [
    {
     "data": {
      "text/html": [
       "[penguin = 633, parrot = 33]"
      ],
      "text/plain": [
       "[penguin = 633, parrot = 33]"
      ]
     },
     "execution_count": 16,
     "metadata": {},
     "output_type": "execute_result"
    }
   ],
   "source": [
    "S=z3.Solver()\n",
    "parrot, penguin = z3.Real('parrot'), z3.Real('penguin')\n",
    "S.add(parrot+penguin == 666)\n",
    "S.add(  penguin == parrot+600  )\n",
    "S.check()\n",
    "solution = S.model()\n",
    "solution"
   ]
  },
  {
   "cell_type": "markdown",
   "metadata": {},
   "source": [
    "Exercise 8: Solve the following text problem using Z3.\n",
    "- A train travels at a uniform speed for 360 miles.\n",
    "- The train would have taken 48 minutes less to travel the same distance if it had been faster by 5 miles per hour.\n",
    "- Find the speed of the train!"
   ]
  },
  {
   "cell_type": "markdown",
   "metadata": {},
   "source": [
    "Gegeben\n",
    "speed=360 \n",
    "48 minutes less if it had been faster by 5 miles per hour"
   ]
  },
  {
   "cell_type": "code",
   "execution_count": 24,
   "metadata": {},
   "outputs": [],
   "source": [
    "S=z3.Solver()\n",
    "v, t = z3.Real('speed'), z3.Int('time')\n",
    "S.add(v*t==360)\n",
    "S.add( (v+5)*(t-z3.Q(4,5)) ==360 )"
   ]
  },
  {
   "cell_type": "code",
   "execution_count": 27,
   "metadata": {},
   "outputs": [
    {
     "data": {
      "text/html": [
       "[time = 8, speed = 45]"
      ],
      "text/plain": [
       "[time = 8, speed = 45]"
      ]
     },
     "execution_count": 27,
     "metadata": {},
     "output_type": "execute_result"
    }
   ],
   "source": [
    "solution = S.model()\n",
    "solution"
   ]
  }
 ],
 "metadata": {
  "kernelspec": {
   "display_name": "Python 3",
   "language": "python",
   "name": "python3"
  },
  "language_info": {
   "codemirror_mode": {
    "name": "ipython",
    "version": 3
   },
   "file_extension": ".py",
   "mimetype": "text/x-python",
   "name": "python",
   "nbconvert_exporter": "python",
   "pygments_lexer": "ipython3",
   "version": "3.8.3"
  }
 },
 "nbformat": 4,
 "nbformat_minor": 5
}
