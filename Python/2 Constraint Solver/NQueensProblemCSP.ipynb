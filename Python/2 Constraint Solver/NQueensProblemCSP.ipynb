{
 "cells": [
  {
   "cell_type": "code",
   "execution_count": null,
   "metadata": {},
   "outputs": [],
   "source": [
    "from IPython.core.display import HTML\n",
    "with open('../style.css') as f:\n",
    "    css = f.read()\n",
    "HTML(css)"
   ]
  },
  {
   "cell_type": "markdown",
   "metadata": {},
   "source": [
    "# The N-Queens-Problem as a CSP"
   ]
  },
  {
   "cell_type": "markdown",
   "metadata": {},
   "source": [
    "The function `create_csp(n)` takes a natural number `n` as argument and returns\n",
    "a *constraint satisfaction problem* that encodes the \n",
    "[`n`-queens puzzle](https://en.wikipedia.org/wiki/Eight_queens_puzzle).\n",
    "    \n",
    "A constraint satisfaction problem $\\mathcal{P}$ is a triple of the form\n",
    "$$ \\mathcal{P} = \\langle \\mathtt{Vars}, \\mathtt{Values}, \\mathtt{Constraints} \\rangle $$\n",
    "where \n",
    "- `Vars` is a set of strings which serve as *variables*.\n",
    "\n",
    "  The idea is that $V_i$ specifies the column of the queen that is placed in row $i$.\n",
    "    \n",
    "- `Values` is a set of *values* that can be assigned \n",
    "  to the variables in $\\mathtt{Vars}$.\n",
    "  \n",
    "  In the 8-queens-problem we will have $\\texttt{Values} = \\{1,\\cdots,8\\}$.\n",
    "- `Constraints` is a set of formulas from first order logic.  \n",
    "  Each of these formulas is  called a *constraint* of $\\mathcal{P}$.\n",
    "  There are two different types of constraints.\n",
    "  * We have constraints that express that no two queens that are positioned in different rows share the same\n",
    "    column.  To capture these constraints, we define\n",
    "    $$\\texttt{DifferentCol} := \\bigl\\{ \\texttt{V}_i \\not= \\texttt{V}_j \\bigm| i \\in \\{1,\\cdots,8\\} \\wedge j \\in \\{1,\\cdots,8\\} \\wedge j < i \\bigr\\}.$$\n",
    "    Here the condition $j < i$ ensures that, for example,  while we have the constraint\n",
    "    $\\texttt{V}_2 \\not= \\texttt{V}_1$ we do not also have the constraint  $\\texttt{V}_1 \\not= \\texttt{V}_2$, as the latter \n",
    "    constraint would be redundant if the former constraint had already been established.\n",
    "  * We have constraints that express that no two queens positioned in different rows share the same \n",
    "    diagonal.  The queens in row $i$ and row $j$ share the same diagonal iff the equation\n",
    "    $$ |i - j| = |V_i - V_j| $$\n",
    "    holds.  The expression $|i-j|$ is the absolute value of the difference of the rows of the queens in row\n",
    "    $i$ and row $j$,  while the expression $|V_i - V_j|$ is the absolute value of the difference of the\n",
    "    columns of these queens.  To capture these constraints, we define\n",
    "    $$ \\texttt{DifferentDiag} := \\bigl\\{ |i  - j| \\not= |\\texttt{V}_i - \\texttt{V}_j| \\bigm| i \\in \\{1,\\cdots,8\\} \\wedge j \\in \\{1,\\cdots,8\\} \\wedge j < i \\bigr\\}. $$"
   ]
  },
  {
   "cell_type": "code",
   "execution_count": null,
   "metadata": {},
   "outputs": [],
   "source": [
    "def create_csp(n):\n",
    "    S              = range(1, n+1)       \n",
    "    # We use a list to store the variables so that the \n",
    "    # animation of backtracking is easier to follow\n",
    "    Variables      = [ f'V{i}' for i in S ]\n",
    "    Values         = set(S)\n",
    "    DifferentCols  = { f'V{i} != V{j}' for i in S\n",
    "                                       for j in S\n",
    "                                       if  i < j \n",
    "                     }\n",
    "    DifferentDiags = { f'abs(V{j} - V{i}) != {j - i}' for i in S\n",
    "                                                      for j in S \n",
    "                                                      if  i < j \n",
    "                     }\n",
    "    return Variables, Values, DifferentCols | DifferentDiags"
   ]
  },
  {
   "cell_type": "markdown",
   "metadata": {},
   "source": [
    "The function `main()` creates a CSP representing the 4-queens puzzle and prints the CSP.\n",
    "It is included for testing purposes."
   ]
  },
  {
   "cell_type": "code",
   "execution_count": null,
   "metadata": {},
   "outputs": [],
   "source": [
    "def main():\n",
    "    Vars, Values, Constraints = create_csp(4)\n",
    "    print('Variables:  ', Vars)\n",
    "    print('Values:     ', Values)\n",
    "    print('Constraints:')\n",
    "    for c in Constraints:\n",
    "        print('            ', c)"
   ]
  },
  {
   "cell_type": "code",
   "execution_count": null,
   "metadata": {
    "scrolled": false
   },
   "outputs": [],
   "source": [
    "main()"
   ]
  },
  {
   "cell_type": "markdown",
   "metadata": {},
   "source": [
    "## Displaying the Solution"
   ]
  },
  {
   "cell_type": "markdown",
   "metadata": {},
   "source": [
    "The following code requires that you install `chess-problem-visuals`, which is a package provided by *Philipp Polland*.  This package can be installed into the environment `ai` with the following command:\n",
    "```\n",
    "pip install git+https://github.com/reclinarka/chess-problem-visuals\n",
    "```\n",
    "The following line performs this installation inside the jupyter notebook.\n",
    "Once you have executed this line once, you can comment it."
   ]
  },
  {
   "cell_type": "code",
   "execution_count": null,
   "metadata": {},
   "outputs": [],
   "source": [
    "!pip install git+https://github.com/reclinarka/chess-problem-visuals"
   ]
  },
  {
   "cell_type": "markdown",
   "metadata": {},
   "source": [
    "Next, we have to import the package `chess_problem_visuals` that was installed in the line above."
   ]
  },
  {
   "cell_type": "code",
   "execution_count": null,
   "metadata": {},
   "outputs": [],
   "source": [
    "import chess_problem_visuals as cpv"
   ]
  },
  {
   "cell_type": "markdown",
   "metadata": {},
   "source": [
    "The function `show_solution(Solution, width)` takes a dictionary that contains a variable assignment that represents a solution to the 8-queens puzzle.  It displays this Solution on a chess board.\n",
    "* `Solution` is a dictionary mapping the variables $\\texttt{V}_i$ to numbers.\n",
    "  If $\\texttt{Solution[V}_i\\texttt{]} = k$, then the queen in row $i$ is placed in column $k$.\n",
    "* `width` specifies the size of the board as a percentage of the width of notebook.  "
   ]
  },
  {
   "cell_type": "code",
   "execution_count": null,
   "metadata": {},
   "outputs": [],
   "source": [
    "def show_solution(Solution, n, width=\"50%\"):\n",
    "    Queens = [None for col in range(n)]\n",
    "    board  = cpv.Board(n, html_width=width)\n",
    "    for row in range(n):\n",
    "        col = Solution.get('V'+str(row+1), None)\n",
    "        if col != None:\n",
    "            board.add_piece((col-1, row), 'Q')\n",
    "    return board"
   ]
  },
  {
   "cell_type": "code",
   "execution_count": null,
   "metadata": {},
   "outputs": [],
   "source": [
    "Solution = {'V5': 1, 'V2': 2, 'V4': 6, 'V6': 3, 'V1': 7, 'V7': 5, 'V3': 4}"
   ]
  },
  {
   "cell_type": "code",
   "execution_count": null,
   "metadata": {},
   "outputs": [],
   "source": [
    "show_solution(Solution, 8)"
   ]
  },
  {
   "cell_type": "code",
   "execution_count": null,
   "metadata": {},
   "outputs": [],
   "source": [
    "Solution2 = {'V5': 1, 'V2': 2, 'V4': 6, 'V6': 3, 'V1': 7, 'V7': 5, 'V3': 4, 'V9':8, 'V8': 9}"
   ]
  },
  {
   "cell_type": "code",
   "execution_count": null,
   "metadata": {},
   "outputs": [],
   "source": [
    "show_solution(Solution2, 9, \"40%\")"
   ]
  },
  {
   "cell_type": "code",
   "execution_count": null,
   "metadata": {},
   "outputs": [],
   "source": []
  }
 ],
 "metadata": {
  "kernelspec": {
   "display_name": "Python 3 (ipykernel)",
   "language": "python",
   "name": "python3"
  },
  "language_info": {
   "codemirror_mode": {
    "name": "ipython",
    "version": 3
   },
   "file_extension": ".py",
   "mimetype": "text/x-python",
   "name": "python",
   "nbconvert_exporter": "python",
   "pygments_lexer": "ipython3",
   "version": "3.10.8"
  },
  "toc": {
   "base_numbering": 1,
   "nav_menu": {},
   "number_sections": true,
   "sideBar": false,
   "skip_h1_title": false,
   "title_cell": "Table of Contents",
   "title_sidebar": "Contents",
   "toc_cell": false,
   "toc_position": {
    "height": "calc(100% - 180px)",
    "left": "10px",
    "top": "150px",
    "width": "165px"
   },
   "toc_section_display": false,
   "toc_window_display": false
  },
  "varInspector": {
   "cols": {
    "lenName": 16,
    "lenType": 16,
    "lenVar": 40
   },
   "kernels_config": {
    "python": {
     "delete_cmd_postfix": "",
     "delete_cmd_prefix": "del ",
     "library": "var_list.py",
     "varRefreshCmd": "print(var_dic_list())"
    },
    "r": {
     "delete_cmd_postfix": ") ",
     "delete_cmd_prefix": "rm(",
     "library": "var_list.r",
     "varRefreshCmd": "cat(var_dic_list()) "
    }
   },
   "types_to_exclude": [
    "module",
    "function",
    "builtin_function_or_method",
    "instance",
    "_Feature"
   ],
   "window_display": false
  }
 },
 "nbformat": 4,
 "nbformat_minor": 2
}
