{
 "cells": [
  {
   "cell_type": "code",
   "execution_count": null,
   "id": "aae6095e",
   "metadata": {},
   "outputs": [],
   "source": [
    "from IPython.core.display import HTML\n",
    "with open('../style.css', 'r') as file:\n",
    "    css = file.read()\n",
    "HTML(css)"
   ]
  },
  {
   "cell_type": "markdown",
   "id": "04a66319",
   "metadata": {},
   "source": [
    "# The Knight's Tour\n",
    "\n",
    "This notebook computes a solution to the [knight's tour](https://en.wikipedia.org/wiki/Knight%27s_tour) using the constraint solver `Z3`.  "
   ]
  },
  {
   "cell_type": "code",
   "execution_count": null,
   "id": "64b503b6",
   "metadata": {},
   "outputs": [],
   "source": [
    "import z3"
   ]
  },
  {
   "cell_type": "markdown",
   "id": "7c198b8b",
   "metadata": {},
   "source": [
    "Given an integer from the set $\\{1, \\cdots, 64\\}$, the function `row(i)` computes the name of the variable that specifies the *row* of the knight before its $i^{\\textrm{th}}$ move."
   ]
  },
  {
   "cell_type": "code",
   "execution_count": null,
   "id": "9ec0ad9d",
   "metadata": {},
   "outputs": [],
   "source": [
    "def row(i):\n",
    "    return f'R{i}'"
   ]
  },
  {
   "cell_type": "markdown",
   "id": "2d2c51a2",
   "metadata": {},
   "source": [
    "Given an integer from the set $\\{1, \\cdots, 64\\}$, the function `row(i)` computes the name of the variable that specifies the *column* of the knight before its $i^{\\textrm{th}}$ move."
   ]
  },
  {
   "cell_type": "code",
   "execution_count": null,
   "id": "efeb28b3",
   "metadata": {},
   "outputs": [],
   "source": [
    "def col(i):\n",
    "    return f'C{i}'"
   ]
  },
  {
   "cell_type": "markdown",
   "id": "af35098b",
   "metadata": {},
   "source": [
    "The function `all_variables` computes the names of all variables."
   ]
  },
  {
   "cell_type": "code",
   "execution_count": null,
   "id": "daf1d734",
   "metadata": {},
   "outputs": [],
   "source": [
    "def all_variables():\n",
    "    Variables = set()\n",
    "    for i in range(1, 65):\n",
    "        Variables.add(row(i))\n",
    "        Variables.add(col(i))\n",
    "    return Variables"
   ]
  },
  {
   "cell_type": "code",
   "execution_count": null,
   "id": "82da4354",
   "metadata": {},
   "outputs": [],
   "source": [
    "all_variables()"
   ]
  },
  {
   "cell_type": "markdown",
   "id": "ddb0863a",
   "metadata": {},
   "source": [
    "The function `is_knight_move(i)` returns a formula that specifies that the $i^{\\textrm{th}}$ move is a legal move for a knight."
   ]
  },
  {
   "cell_type": "code",
   "execution_count": null,
   "id": "7c8ff1e0",
   "metadata": {},
   "outputs": [],
   "source": [
    "def is_knight_move(i):\n",
    "    r  = row(i)\n",
    "    c  = col(i)\n",
    "    rX = row(i+1)\n",
    "    cX = col(i+1)\n",
    "    Formulas = set()\n",
    "    for delta_r, delta_c in [(1, 2), (2, 1)]:\n",
    "        Formulas.add(f'z3.And({rX} == {r} + {delta_r}, {cX} == {c} + {delta_c})')\n",
    "        Formulas.add(f'z3.And({rX} == {r} + {delta_r}, {cX} + {delta_c} == {c})')\n",
    "        Formulas.add(f'z3.And({rX} + {delta_r} == {r}, {cX} == {c} + {delta_c})')\n",
    "        Formulas.add(f'z3.And({rX} + {delta_r} == {r}, {cX} + {delta_c} == {c})') \n",
    "    return 'z3.Or(' + ', '.join(Formulas) + ')'"
   ]
  },
  {
   "cell_type": "code",
   "execution_count": null,
   "id": "801f2287",
   "metadata": {},
   "outputs": [],
   "source": [
    "is_knight_move(1)"
   ]
  },
  {
   "cell_type": "markdown",
   "id": "1de6df39",
   "metadata": {},
   "source": [
    "The function `all_different` computes a set of formulas specifiying that\n",
    "$$ \\langle \\textrm{R}i, \\textrm{C}i \\rangle \\not= \\langle \\textrm{R}j, \\textrm{C}j \\rangle $$\n",
    "provided that $i \\not= j$."
   ]
  },
  {
   "cell_type": "code",
   "execution_count": null,
   "id": "83b77b18",
   "metadata": {},
   "outputs": [],
   "source": [
    "def all_different():\n",
    "    Result = set()\n",
    "    for i in range(1, 64):\n",
    "        for j in range (i+1, 65):\n",
    "            Result.add(f'z3.Or({row(i)} != {row(j)}, {col(i)} != {col(j)})')\n",
    "    return Result"
   ]
  },
  {
   "cell_type": "code",
   "execution_count": null,
   "id": "e6c93b7f",
   "metadata": {},
   "outputs": [],
   "source": [
    "def all_constraints():\n",
    "    Constraints = all_different()\n",
    "    Constraints.add(f'{row(1)} == 0')\n",
    "    Constraints.add(f'{col(1)} == 0')\n",
    "    Constraints.add(f'{row(64)} == 1')\n",
    "    Constraints.add(f'{col(64)} == 2')\n",
    "    for i in range(1, 64):\n",
    "        Constraints.add(is_knight_move(i))\n",
    "    for i in range(1, 65):\n",
    "        Constraints.add(f'{row(i)} >= 0')\n",
    "        Constraints.add(f'{col(i)} >= 0')\n",
    "    return Constraints"
   ]
  },
  {
   "cell_type": "code",
   "execution_count": null,
   "id": "f1fa81f9",
   "metadata": {},
   "outputs": [],
   "source": [
    "len(all_constraints())"
   ]
  },
  {
   "cell_type": "markdown",
   "id": "f59d865d",
   "metadata": {},
   "source": [
    "The function `solve(Constraints, Variables)` receives two arguments:\n",
    "- `Constraints` is a set of formulas representing a constraint satisfaction problem.\n",
    "- `Variables`   is the set of variables that occur in this formulas.\n",
    "\n",
    "   It is assumed that all Variables can be presented by bit-vector of length 4.\n",
    "\n",
    "The function computes a solution to the given problem and returns this solution."
   ]
  },
  {
   "cell_type": "code",
   "execution_count": null,
   "id": "8b7ddd17",
   "metadata": {},
   "outputs": [],
   "source": [
    "def solve(Constraints, Variables):\n",
    "    Environment = {}\n",
    "    exec('import z3', Environment)\n",
    "    for v in Variables:\n",
    "        exec(f'{v} = z3.BitVec(f\"{v}\", 4)', Environment)\n",
    "    s = z3.Solver()\n",
    "    for c in Constraints:\n",
    "        s.add(eval(c, Environment))\n",
    "    s.check()\n",
    "    m = s.model()\n",
    "    S = { v: m[eval(v, Environment)] for v in Variables }\n",
    "    return S"
   ]
  },
  {
   "cell_type": "markdown",
   "id": "caa181ac",
   "metadata": {},
   "source": [
    "The following cell takes about 5 minutes and 5 seconds on my `3,4 GHz Quad-Core Intel Core i5` *iMac* from 2017."
   ]
  },
  {
   "cell_type": "code",
   "execution_count": null,
   "id": "fa4dd09b",
   "metadata": {},
   "outputs": [],
   "source": [
    "%%time\n",
    "Solution = solve(all_constraints(), all_variables())\n",
    "Solution"
   ]
  },
  {
   "cell_type": "markdown",
   "id": "903ead7e",
   "metadata": {},
   "source": [
    "The function `create_board(Solution)` returns a matrix `Board` of size $8\\times 8$.\n",
    "The following holds:\n",
    "$$ \\texttt{Board}[\\texttt{R}i][\\texttt{C}i] = i $$\n",
    "Therefore, if `Board[r][c] == i`, then at the beginning of the $i^{\\textrm{th}}$ move the knight is located in row `r` and column `c`. "
   ]
  },
  {
   "cell_type": "code",
   "execution_count": null,
   "id": "e6e0d40f",
   "metadata": {},
   "outputs": [],
   "source": [
    "def create_board(Solution):\n",
    "    Board = [[0 for _ in range(8)] for _ in range(8)]\n",
    "    for i in range(1, 65):\n",
    "        r = Solution[row(i)].as_long()\n",
    "        c = Solution[col(i)].as_long()\n",
    "        Board[r][c] = i\n",
    "    return Board"
   ]
  },
  {
   "cell_type": "code",
   "execution_count": null,
   "id": "b97bfed0",
   "metadata": {},
   "outputs": [],
   "source": [
    "create_board(Solution)"
   ]
  },
  {
   "cell_type": "markdown",
   "id": "0c7fcc3d",
   "metadata": {},
   "source": [
    "The function `print_board` prints the given `Board`."
   ]
  },
  {
   "cell_type": "code",
   "execution_count": null,
   "id": "afa11e70",
   "metadata": {},
   "outputs": [],
   "source": [
    "def print_board(Board):\n",
    "    n = len(Board)\n",
    "    # Determine the width of the widest element in the matrix\n",
    "    width = max([ len(str(element)) for row in Board\n",
    "                                    for element in row\n",
    "                ])\n",
    "    # Create the top and bottom of the matrix\n",
    "    top_line = '╔'\n",
    "    for i in range(n - 1):\n",
    "        top_line += '=' * (width + 2) + '╦'\n",
    "    top_line += '=' * (width + 2) + '╗'\n",
    "    mid_line = '╠'\n",
    "    for i in range(n - 1):\n",
    "        mid_line += '=' * (width + 2) + '╬'\n",
    "    mid_line += '=' * (width + 2) + '╣'    \n",
    "    bot_line = '╚'\n",
    "    for i in range(n - 1):\n",
    "        bot_line += '=' * (width + 2) + '╩'\n",
    "    bot_line += '=' * (width + 2) + '╝'\n",
    "    # Print the top of the matrix\n",
    "    print(top_line)\n",
    "    # Iterate through the rows and columns of the matrix, and print\n",
    "    # each element with proper padding\n",
    "    for i, row in enumerate(Board):\n",
    "        line = '\\u2551'\n",
    "        for element in row:\n",
    "            line += f' {element:>{width}} ║'\n",
    "        print(line)\n",
    "        # Print a horizontal line\n",
    "        if i < len(Board) - 1:\n",
    "            print(mid_line)\n",
    "    # Print the bottom of the matrix\n",
    "    print(bot_line)"
   ]
  },
  {
   "cell_type": "code",
   "execution_count": null,
   "id": "96e3cda7",
   "metadata": {},
   "outputs": [],
   "source": [
    "print_board(create_board(Solution))"
   ]
  },
  {
   "cell_type": "markdown",
   "id": "f402f17d",
   "metadata": {},
   "source": [
    "# Visualization"
   ]
  },
  {
   "cell_type": "markdown",
   "id": "8c31e606",
   "metadata": {},
   "source": [
    "If you have not yet installed `chess-problem-visuals` you have to uncomment the following line."
   ]
  },
  {
   "cell_type": "code",
   "execution_count": null,
   "id": "30f1bf4d",
   "metadata": {},
   "outputs": [],
   "source": [
    "#!pip install git+https://github.com/reclinarka/chess-problem-visuals"
   ]
  },
  {
   "cell_type": "code",
   "execution_count": null,
   "id": "85fbf01a",
   "metadata": {},
   "outputs": [],
   "source": [
    "from chess_problem_visuals import problem_board"
   ]
  },
  {
   "cell_type": "markdown",
   "id": "650a79db",
   "metadata": {},
   "source": [
    "The function `show_solution` displays the given solution on a chessboard.\n",
    "The solution `Board` is represented as a list of lists.  We have `Board[row][col] == k` if the $k^\\textrm{th}$ move leads the knight to the position `(row, col)`."
   ]
  },
  {
   "cell_type": "code",
   "execution_count": null,
   "id": "49dcea4a",
   "metadata": {},
   "outputs": [],
   "source": [
    "def show_solution(Board, width=\"50%\"):\n",
    "    n         = len(Board)\n",
    "    Positions = {}\n",
    "    for row in range(n):\n",
    "        for col in range(n):\n",
    "            k = Board[row][col]\n",
    "            Positions[k] = (row, col)\n",
    "    Path = []\n",
    "    for k in range(1, n*n+1):\n",
    "        Path.append(Positions[k])\n",
    "    Visual = problem_board(n, K_start=Positions[1], K_path=Path, \n",
    "                           html_width=width, \n",
    "                           arrow_color=\"blue\",\n",
    "                           arrow_width=0.1)\n",
    "    return Visual"
   ]
  },
  {
   "cell_type": "code",
   "execution_count": null,
   "id": "af845106",
   "metadata": {
    "scrolled": false
   },
   "outputs": [],
   "source": [
    "show_solution(create_board(Solution))"
   ]
  },
  {
   "cell_type": "code",
   "execution_count": null,
   "id": "0eb8d8aa",
   "metadata": {},
   "outputs": [],
   "source": []
  }
 ],
 "metadata": {
  "kernelspec": {
   "display_name": "Python 3 (ipykernel)",
   "language": "python",
   "name": "python3"
  },
  "language_info": {
   "codemirror_mode": {
    "name": "ipython",
    "version": 3
   },
   "file_extension": ".py",
   "mimetype": "text/x-python",
   "name": "python",
   "nbconvert_exporter": "python",
   "pygments_lexer": "ipython3",
   "version": "3.10.8"
  }
 },
 "nbformat": 4,
 "nbformat_minor": 5
}
