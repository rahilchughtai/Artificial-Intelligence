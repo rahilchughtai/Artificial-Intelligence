{
 "cells": [
  {
   "cell_type": "code",
   "execution_count": 1,
   "id": "aae6095e",
   "metadata": {},
   "outputs": [
    {
     "data": {
      "text/html": [
       "<link href='http://fonts.googleapis.com/css?family=Alegreya+Sans:100,300,400,500,700,800,900,100italic,300italic,400italic,500italic,700italic,800italic,900italic' rel='stylesheet' type='text/css'>\n",
       "<link href='http://fonts.googleapis.com/css?family=Arvo:400,700,400italic' rel='stylesheet' type='text/css'>\n",
       "<link href='http://fonts.googleapis.com/css?family=PT+Mono' rel='stylesheet' type='text/css'>\n",
       "<link href='http://fonts.googleapis.com/css?family=Shadows+Into+Light' rel='stylesheet' type='text/css'>\n",
       "<link href='http://fonts.googleapis.com/css?family=Philosopher:400,700,400italic,700italic' rel='stylesheet' type='text/css'>\n",
       "<link href=\"http://fonts.googleapis.com/css?family=Sacramento\" rel=\"stylesheet\" type=\"text/css\">\n",
       "\n",
       "<style>\n",
       "\n",
       "@font-face {\n",
       "    font-family: \"Computer Modern\";\n",
       "    src: url('http://mirrors.ctan.org/fonts/cm-unicode/fonts/otf/cmunss.otf');\n",
       "}\n",
       "\n",
       ".container { width: 100% }\n",
       "\n",
       "/* Formatting for header cells */\n",
       ".text_cell_render h1 {\n",
       "    font-family: 'Philosopher', sans-serif;\n",
       "    font-weight: 400;\n",
       "    font-size: 2.2em;\n",
       "    line-height: 100%;\n",
       "    color: rgb(0, 80, 120);\n",
       "    margin-bottom: 0.1em;\n",
       "    margin-top: 0.1em;\n",
       "    display: block;\n",
       "}\t\n",
       ".text_cell_render h2 {\n",
       "    font-family: 'Philosopher', serif;\n",
       "    font-weight: 400;\n",
       "    font-size: 1.9em;\n",
       "    line-height: 100%;\n",
       "    color: rgb(200,100,0);\n",
       "    margin-bottom: 0.1em;\n",
       "    margin-top: 0.1em;\n",
       "    display: block;\n",
       "}\t\n",
       "\n",
       ".text_cell_render h3 {\n",
       "    font-family: 'Philosopher', serif;\n",
       "    margin-top:12px;\n",
       "    margin-bottom: 3px;\n",
       "    font-style: italic;\n",
       "    color: rgb(94,127,192);\n",
       "}\n",
       "\n",
       ".text_cell_render h4 {\n",
       "    font-family: 'Philosopher', serif;\n",
       "}\n",
       "\n",
       ".text_cell_render h5 {\n",
       "    font-family: 'Alegreya Sans', sans-serif;\n",
       "    font-weight: 300;\n",
       "    font-size: 16pt;\n",
       "    color: grey;\n",
       "    font-style: italic;\n",
       "    margin-bottom: .1em;\n",
       "    margin-top: 0.1em;\n",
       "    display: block;\n",
       "}\n",
       "\n",
       ".text_cell_render h6 {\n",
       "    font-family: 'PT Mono', sans-serif;\n",
       "    font-weight: 300;\n",
       "    font-size: 10pt;\n",
       "    color: grey;\n",
       "    margin-bottom: 1px;\n",
       "    margin-top: 1px;\n",
       "}\n",
       "\n",
       ".text_cell_render em {\n",
       "    font-family: 'Philosopher', sans-serif;\n",
       "    color:        blue;\n",
       "    background-color: rgb(255,220,180);\n",
       "    font-size:    110%;\n",
       "    margin-left:   2px;\n",
       "    margin-right:  2px;\n",
       "    font-weight:   100;\n",
       "}\n",
       "\n",
       ".text_cell_render b {\n",
       "    color:            rgb(255,195,195);\n",
       "    background-color: rgb(0,0,0);\n",
       "    font-size:    110%;\n",
       "    margin-left:   2px;\n",
       "    margin-right:  2px;\n",
       "    font-weight:   650;\n",
       "}\n",
       "\n",
       ".text_cell_render u {\n",
       "    color:            blue;\n",
       "    font-size:    110%;\n",
       "    margin-left:   2px;\n",
       "    margin-right:  2px;\n",
       "    font-weight:   650;\n",
       "}\n",
       "\n",
       ".text_cell_render tt {\n",
       "    font-size:    120%;\n",
       "    margin-left:   2px;\n",
       "    margin-right:  2px;\n",
       "    font-weight:   150;\n",
       "}\n",
       "\n",
       ".Codemirror {\n",
       "    font-family: \"PT Mono\";\n",
       "    font-size: 100%;\n",
       "}\n",
       "\n",
       "#fancy {\n",
       "    font-family:      Georgia;\n",
       "    position:         relative;\n",
       "    float:            left;\n",
       "    border:           2px solid red;\n",
       "    width:            600px;\n",
       "    padding-left:     20px;\n",
       "    padding-right:    20px;\n",
       "    padding-top:      10px;\n",
       "    font-family:      'Sacramento', cursive;\n",
       "    font-size:        26px;\n",
       "    background-color: #F4EBF3;\n",
       "    border-radius:    15px;\n",
       "}\n",
       "\n",
       "</Style>\n",
       "\n"
      ],
      "text/plain": [
       "<IPython.core.display.HTML object>"
      ]
     },
     "execution_count": 1,
     "metadata": {},
     "output_type": "execute_result"
    }
   ],
   "source": [
    "from IPython.core.display import HTML\n",
    "with open('../style.css', 'r') as file:\n",
    "    css = file.read()\n",
    "HTML(css)"
   ]
  },
  {
   "cell_type": "markdown",
   "id": "04a66319",
   "metadata": {},
   "source": [
    "# The Knight's Tour\n",
    "\n",
    "This notebook computes a solution to the [knight's tour](https://en.wikipedia.org/wiki/Knight%27s_tour) using the constraint solver `Z3`.  Furthrmore, we will compute a closed tour, i.e. the knight will return to its starting square in its last move."
   ]
  },
  {
   "cell_type": "code",
   "execution_count": 2,
   "id": "64b503b6",
   "metadata": {},
   "outputs": [],
   "source": [
    "import z3"
   ]
  },
  {
   "cell_type": "markdown",
   "id": "7c198b8b",
   "metadata": {},
   "source": [
    "Given an integer from the set $\\{0, 1, \\cdots, 64\\}$, the function `row(i)` computes the name of the variable that specifies the *row* of the knight after its $i^{\\textrm{th}}$ move."
   ]
  },
  {
   "cell_type": "code",
   "execution_count": 3,
   "id": "9ec0ad9d",
   "metadata": {},
   "outputs": [],
   "source": [
    "def row(i):\n",
    "    return f'R{i}'"
   ]
  },
  {
   "cell_type": "markdown",
   "id": "2d2c51a2",
   "metadata": {},
   "source": [
    "Given an integer from the set $\\{0, 1, \\cdots, 64\\}$, the function `row(i)` computes the name of the variable that specifies the *column* of the knight after its $i^{\\textrm{th}}$ move."
   ]
  },
  {
   "cell_type": "code",
   "execution_count": 4,
   "id": "efeb28b3",
   "metadata": {},
   "outputs": [],
   "source": [
    "def col(i):\n",
    "    return f'C{i}'"
   ]
  },
  {
   "cell_type": "markdown",
   "id": "af35098b",
   "metadata": {},
   "source": [
    "The function `all_variables` computes the names of all variables."
   ]
  },
  {
   "cell_type": "code",
   "execution_count": 5,
   "id": "daf1d734",
   "metadata": {},
   "outputs": [],
   "source": [
    "def all_variables():\n",
    "    Variables = set()\n",
    "    for i in range(64+1):\n",
    "        Variables.add(row(i))\n",
    "        Variables.add(col(i))\n",
    "    return Variables"
   ]
  },
  {
   "cell_type": "markdown",
   "id": "ddb0863a",
   "metadata": {},
   "source": [
    "The function `is_knight_move(i)` returns a formula that specifies that the $i^{\\textrm{th}}$ move is a legal move for a knight.\n",
    "In order to form the *conjunction* of two formulas we use the function `z3.And`, while the *disjunction* is build with the function `z3.Or`.\n",
    "\n",
    "The figure below shows the moves of a knight:  The knight on `e4` can jump to all red squares.\n",
    "<img src=\"knight-moves.png\" width=\"50%\">"
   ]
  },
  {
   "cell_type": "code",
   "execution_count": 6,
   "id": "7c8ff1e0",
   "metadata": {},
   "outputs": [],
   "source": [
    "def is_knight_move(i):\n",
    "    r  = row(i)\n",
    "    c  = col(i)\n",
    "    rX = row(i+1)\n",
    "    cX = col(i+1)\n",
    "    Formulas = set()\n",
    "    for delta_r, delta_c in [(1, 2), (2, 1)]:\n",
    "        Formulas.add(f'z3.And({rX} == {r} + {delta_r}, {cX} == {c} + {delta_c})')\n",
    "        Formulas.add(f'z3.And({rX} == {r} + {delta_r}, {cX} + {delta_c} == {c})')\n",
    "        Formulas.add(f'z3.And({rX} + {delta_r} == {r}, {cX} == {c} + {delta_c})')\n",
    "        Formulas.add(f'z3.And({rX} + {delta_r} == {r}, {cX} + {delta_c} == {c})') \n",
    "    return 'z3.Or(' + ', '.join(Formulas) + ')'"
   ]
  },
  {
   "cell_type": "markdown",
   "id": "1de6df39",
   "metadata": {},
   "source": [
    "The function `all_different` computes a set of formulas specifiying that\n",
    "$$ \\langle \\textrm{R}i, \\textrm{C}i \\rangle \\not= \\langle \\textrm{R}j, \\textrm{C}j \\rangle $$\n",
    "provided that $i \\not= j$.  This specifies that, with the exception of the starting square, the knight will not not visit a square twice.  This way, we ensure that all squares are visited as the tour has a length of 64 and there are exactly $8 \\times 8 = 64$ squares on a chessboard."
   ]
  },
  {
   "cell_type": "code",
   "execution_count": 7,
   "id": "83b77b18",
   "metadata": {},
   "outputs": [],
   "source": [
    "def all_different():\n",
    "    Result = set()\n",
    "    for i in range(62+1):\n",
    "        for j in range (i+1, 63+1):\n",
    "            Result.add(f'z3.Or({row(i)} != {row(j)}, {col(i)} != {col(j)})')\n",
    "    return Result"
   ]
  },
  {
   "cell_type": "code",
   "execution_count": 8,
   "id": "e6c93b7f",
   "metadata": {},
   "outputs": [],
   "source": [
    "def all_constraints():\n",
    "    Constraints = all_different()\n",
    "    Constraints.add(f'{row(0 )} == 0')\n",
    "    Constraints.add(f'{col(0 )} == 0')\n",
    "    Constraints.add(f'{row(64)} == 0')\n",
    "    Constraints.add(f'{col(64)} == 0')\n",
    "    for i in range(63+1):\n",
    "        Constraints.add(is_knight_move(i))\n",
    "    for i in range(64+1):\n",
    "        Constraints.add(f'{row(i)} >= 0')\n",
    "        Constraints.add(f'{col(i)} >= 0')\n",
    "    return Constraints"
   ]
  },
  {
   "cell_type": "code",
   "execution_count": 9,
   "id": "f1fa81f9",
   "metadata": {},
   "outputs": [
    {
     "data": {
      "text/plain": [
       "2214"
      ]
     },
     "execution_count": 9,
     "metadata": {},
     "output_type": "execute_result"
    }
   ],
   "source": [
    "len(all_constraints())"
   ]
  },
  {
   "cell_type": "markdown",
   "id": "f59d865d",
   "metadata": {},
   "source": [
    "The function `solve(Constraints, Variables)` receives two arguments:\n",
    "- `Constraints` is a set of formulas representing a constraint satisfaction problem.\n",
    "- `Variables`   is the set of variables that occur in this formulas.\n",
    "\n",
    "   It is assumed that all variables can be presented by bit-vector of length 4.\n",
    "   We need 4 bits because the numbers use a sign bit.\n",
    "\n",
    "The function computes a solution to the given problem and returns this solution."
   ]
  },
  {
   "cell_type": "code",
   "execution_count": 10,
   "id": "8b7ddd17",
   "metadata": {},
   "outputs": [],
   "source": [
    "def solve(Constraints, Variables):\n",
    "    Environment = {}\n",
    "    exec('import z3', Environment)\n",
    "    for v in Variables:\n",
    "        exec(f'{v} = z3.BitVec(f\"{v}\", 4)', Environment)\n",
    "    s = z3.Solver()\n",
    "    for c in Constraints:\n",
    "        s.add(eval(c, Environment))\n",
    "    result = str(s.check())\n",
    "    if result == 'sat':\n",
    "        m = s.model()\n",
    "        S = { v: m[eval(v, Environment)] for v in Variables }\n",
    "        return S\n",
    "    elif result == 'unsat':\n",
    "        print('The problem is not solvable.')\n",
    "    else:\n",
    "        print('Z3 cannot determine whether the problem is solvable.')"
   ]
  },
  {
   "cell_type": "markdown",
   "id": "caa181ac",
   "metadata": {},
   "source": [
    "Unfortunately, the execution times of the following cell vary greatly. \n",
    "Sometimes it takes 7 minutes, sometimes 35 minutes."
   ]
  },
  {
   "cell_type": "code",
   "execution_count": 11,
   "id": "fa4dd09b",
   "metadata": {
    "scrolled": true
   },
   "outputs": [
    {
     "name": "stdout",
     "output_type": "stream",
     "text": [
      "CPU times: user 23min 9s, sys: 2.71 s, total: 23min 11s\n",
      "Wall time: 23min 12s\n"
     ]
    },
    {
     "data": {
      "text/plain": [
       "{'C47': 6,\n",
       " 'C56': 7,\n",
       " 'C64': 0,\n",
       " 'R46': 6,\n",
       " 'R28': 7,\n",
       " 'R31': 3,\n",
       " 'C24': 0,\n",
       " 'C61': 0,\n",
       " 'C42': 6,\n",
       " 'C2': 3,\n",
       " 'R30': 4,\n",
       " 'C32': 2,\n",
       " 'C34': 0,\n",
       " 'C26': 3,\n",
       " 'R57': 3,\n",
       " 'R17': 3,\n",
       " 'C21': 1,\n",
       " 'C25': 1,\n",
       " 'R1': 1,\n",
       " 'C5': 6,\n",
       " 'C59': 3,\n",
       " 'C38': 6,\n",
       " 'R25': 6,\n",
       " 'C39': 7,\n",
       " 'C3': 5,\n",
       " 'C48': 7,\n",
       " 'R42': 6,\n",
       " 'R61': 5,\n",
       " 'C30': 6,\n",
       " 'C43': 4,\n",
       " 'R12': 2,\n",
       " 'R55': 0,\n",
       " 'R49': 6,\n",
       " 'R54': 2,\n",
       " 'C27': 4,\n",
       " 'C18': 1,\n",
       " 'R9': 1,\n",
       " 'C50': 7,\n",
       " 'C17': 0,\n",
       " 'R59': 6,\n",
       " 'R43': 7,\n",
       " 'R37': 2,\n",
       " 'R52': 5,\n",
       " 'C12': 6,\n",
       " 'C54': 4,\n",
       " 'R27': 5,\n",
       " 'C8': 1,\n",
       " 'R53': 4,\n",
       " 'C10': 2,\n",
       " 'R5': 1,\n",
       " 'R51': 7,\n",
       " 'R7': 2,\n",
       " 'R32': 2,\n",
       " 'C52': 5,\n",
       " 'R64': 0,\n",
       " 'C46': 4,\n",
       " 'C19': 0,\n",
       " 'R47': 5,\n",
       " 'R14': 1,\n",
       " 'C57': 6,\n",
       " 'C1': 2,\n",
       " 'C4': 7,\n",
       " 'R8': 3,\n",
       " 'C41': 7,\n",
       " 'C35': 2,\n",
       " 'R10': 0,\n",
       " 'R23': 5,\n",
       " 'C55': 5,\n",
       " 'C58': 4,\n",
       " 'R58': 4,\n",
       " 'R56': 1,\n",
       " 'C33': 1,\n",
       " 'R63': 2,\n",
       " 'R60': 7,\n",
       " 'C9': 0,\n",
       " 'C45': 2,\n",
       " 'C53': 3,\n",
       " 'C49': 5,\n",
       " 'C37': 5,\n",
       " 'C36': 3,\n",
       " 'C7': 3,\n",
       " 'R3': 4,\n",
       " 'R15': 0,\n",
       " 'C6': 4,\n",
       " 'C0': 0,\n",
       " 'C31': 4,\n",
       " 'C40': 5,\n",
       " 'C15': 3,\n",
       " 'R39': 2,\n",
       " 'R45': 7,\n",
       " 'C44': 3,\n",
       " 'R2': 3,\n",
       " 'R16': 1,\n",
       " 'C63': 1,\n",
       " 'R35': 3,\n",
       " 'C14': 5,\n",
       " 'C51': 6,\n",
       " 'R33': 0,\n",
       " 'R41': 4,\n",
       " 'R50': 5,\n",
       " 'R24': 4,\n",
       " 'C60': 1,\n",
       " 'R6': 0,\n",
       " 'C13': 7,\n",
       " 'R4': 3,\n",
       " 'R62': 4,\n",
       " 'C22': 0,\n",
       " 'R38': 0,\n",
       " 'R44': 5,\n",
       " 'R20': 6,\n",
       " 'R26': 7,\n",
       " 'C11': 4,\n",
       " 'C20': 2,\n",
       " 'C28': 5,\n",
       " 'R13': 0,\n",
       " 'R0': 0,\n",
       " 'R19': 7,\n",
       " 'R40': 3,\n",
       " 'R11': 1,\n",
       " 'R22': 6,\n",
       " 'R36': 1,\n",
       " 'C16': 1,\n",
       " 'R18': 5,\n",
       " 'R21': 4,\n",
       " 'R48': 7,\n",
       " 'C62': 2,\n",
       " 'C29': 7,\n",
       " 'R29': 6,\n",
       " 'R34': 2,\n",
       " 'C23': 2}"
      ]
     },
     "execution_count": 11,
     "metadata": {},
     "output_type": "execute_result"
    }
   ],
   "source": [
    "%%time\n",
    "Solution = solve(all_constraints(), all_variables())\n",
    "Solution"
   ]
  },
  {
   "cell_type": "markdown",
   "id": "903ead7e",
   "metadata": {},
   "source": [
    "The function `create_board(Solution)` returns a matrix `Board` of size $8\\times 8$.\n",
    "The following holds:\n",
    "$$ \\texttt{Board}[\\texttt{R}i][\\texttt{C}i] = i $$\n",
    "Therefore, if `Board[r][c] == i`, then at the beginning of the $i^{\\textrm{th}}$ move the knight is located in row `r` and column `c`. "
   ]
  },
  {
   "cell_type": "code",
   "execution_count": 12,
   "id": "e6e0d40f",
   "metadata": {},
   "outputs": [],
   "source": [
    "def create_board(Solution):\n",
    "    Board = [[0 for _ in range(8)] for _ in range(8)]\n",
    "    for i in range(1, 65):\n",
    "        r = Solution[row(i)].as_long()\n",
    "        c = Solution[col(i)].as_long()\n",
    "        Board[r][c] = i\n",
    "    return Board"
   ]
  },
  {
   "cell_type": "code",
   "execution_count": 13,
   "id": "b97bfed0",
   "metadata": {},
   "outputs": [
    {
     "data": {
      "text/plain": [
       "[[64, 33, 10, 15, 6, 55, 38, 13],\n",
       " [9, 16, 1, 36, 11, 14, 5, 56],\n",
       " [34, 63, 32, 7, 54, 37, 12, 39],\n",
       " [17, 8, 35, 2, 31, 40, 57, 4],\n",
       " [24, 21, 62, 53, 58, 3, 30, 41],\n",
       " [61, 18, 23, 44, 27, 52, 47, 50],\n",
       " [22, 25, 20, 59, 46, 49, 42, 29],\n",
       " [19, 60, 45, 26, 43, 28, 51, 48]]"
      ]
     },
     "execution_count": 13,
     "metadata": {},
     "output_type": "execute_result"
    }
   ],
   "source": [
    "create_board(Solution)"
   ]
  },
  {
   "cell_type": "markdown",
   "id": "0c7fcc3d",
   "metadata": {},
   "source": [
    "The function `print_board` prints the given `Board`."
   ]
  },
  {
   "cell_type": "code",
   "execution_count": 14,
   "id": "afa11e70",
   "metadata": {},
   "outputs": [],
   "source": [
    "def print_board(Board):\n",
    "    n = len(Board)\n",
    "    # Determine the width of the widest element in the matrix\n",
    "    width = max([ len(str(element)) for row in Board\n",
    "                                    for element in row\n",
    "                ])\n",
    "    # Create the top and bottom of the matrix\n",
    "    top_line = '╔'\n",
    "    for i in range(n - 1):\n",
    "        top_line += '═' * (width + 2) + '╦'\n",
    "    top_line += '═' * (width + 2) + '╗'\n",
    "    mid_line = '╠'\n",
    "    for i in range(n - 1):\n",
    "        mid_line += '═' * (width + 2) + '╬'\n",
    "    mid_line += '═' * (width + 2) + '╣'    \n",
    "    bot_line = '╚'\n",
    "    for i in range(n - 1):\n",
    "        bot_line += '═' * (width + 2) + '╩'\n",
    "    bot_line += '═' * (width + 2) + '╝'\n",
    "    # Print the top of the matrix\n",
    "    print(top_line)\n",
    "    # Iterate through the rows and columns of the matrix, and print\n",
    "    # each element with proper padding\n",
    "    for i, row in enumerate(Board):\n",
    "        line = '\\u2551'\n",
    "        for element in row:\n",
    "            line += f' {element:>{width}} ║'\n",
    "        print(line)\n",
    "        # Print a horizontal line\n",
    "        if i < len(Board) - 1:\n",
    "            print(mid_line)\n",
    "    # Print the bottom of the matrix\n",
    "    print(bot_line)"
   ]
  },
  {
   "cell_type": "code",
   "execution_count": 15,
   "id": "96e3cda7",
   "metadata": {},
   "outputs": [
    {
     "name": "stdout",
     "output_type": "stream",
     "text": [
      "╔════╦════╦════╦════╦════╦════╦════╦════╗\n",
      "║ 64 ║ 33 ║ 10 ║ 15 ║  6 ║ 55 ║ 38 ║ 13 ║\n",
      "╠════╬════╬════╬════╬════╬════╬════╬════╣\n",
      "║  9 ║ 16 ║  1 ║ 36 ║ 11 ║ 14 ║  5 ║ 56 ║\n",
      "╠════╬════╬════╬════╬════╬════╬════╬════╣\n",
      "║ 34 ║ 63 ║ 32 ║  7 ║ 54 ║ 37 ║ 12 ║ 39 ║\n",
      "╠════╬════╬════╬════╬════╬════╬════╬════╣\n",
      "║ 17 ║  8 ║ 35 ║  2 ║ 31 ║ 40 ║ 57 ║  4 ║\n",
      "╠════╬════╬════╬════╬════╬════╬════╬════╣\n",
      "║ 24 ║ 21 ║ 62 ║ 53 ║ 58 ║  3 ║ 30 ║ 41 ║\n",
      "╠════╬════╬════╬════╬════╬════╬════╬════╣\n",
      "║ 61 ║ 18 ║ 23 ║ 44 ║ 27 ║ 52 ║ 47 ║ 50 ║\n",
      "╠════╬════╬════╬════╬════╬════╬════╬════╣\n",
      "║ 22 ║ 25 ║ 20 ║ 59 ║ 46 ║ 49 ║ 42 ║ 29 ║\n",
      "╠════╬════╬════╬════╬════╬════╬════╬════╣\n",
      "║ 19 ║ 60 ║ 45 ║ 26 ║ 43 ║ 28 ║ 51 ║ 48 ║\n",
      "╚════╩════╩════╩════╩════╩════╩════╩════╝\n"
     ]
    }
   ],
   "source": [
    "print_board(create_board(Solution))"
   ]
  },
  {
   "cell_type": "markdown",
   "id": "f402f17d",
   "metadata": {},
   "source": [
    "# Visualization"
   ]
  },
  {
   "cell_type": "markdown",
   "id": "8c31e606",
   "metadata": {},
   "source": [
    "If you have not yet installed `chess-problem-visuals` you have to uncomment the following line."
   ]
  },
  {
   "cell_type": "code",
   "execution_count": 16,
   "id": "30f1bf4d",
   "metadata": {},
   "outputs": [
    {
     "name": "stdout",
     "output_type": "stream",
     "text": [
      "Collecting git+https://github.com/reclinarka/chess-problem-visuals\n",
      "  Cloning https://github.com/reclinarka/chess-problem-visuals to /private/var/folders/zg/r2ldnzsn677_p_qb62_kt1j40000gn/T/pip-req-build-_dgoqwvu\n",
      "  Running command git clone --filter=blob:none --quiet https://github.com/reclinarka/chess-problem-visuals /private/var/folders/zg/r2ldnzsn677_p_qb62_kt1j40000gn/T/pip-req-build-_dgoqwvu\n",
      "  Resolved https://github.com/reclinarka/chess-problem-visuals to commit 764a29b376fe9dd3cbb2623ce8740f73c6711fa4\n",
      "  Preparing metadata (setup.py) ... \u001b[?25ldone\n",
      "\u001b[?25h"
     ]
    }
   ],
   "source": [
    "!pip install git+https://github.com/reclinarka/chess-problem-visuals"
   ]
  },
  {
   "cell_type": "code",
   "execution_count": 17,
   "id": "85fbf01a",
   "metadata": {},
   "outputs": [],
   "source": [
    "from chess_problem_visuals import problem_board"
   ]
  },
  {
   "cell_type": "markdown",
   "id": "650a79db",
   "metadata": {},
   "source": [
    "The function `show_solution` displays the given solution on a chessboard.\n",
    "The solution `Board` is represented as a list of lists.  We have `Board[row][col] == k` if the $k^\\textrm{th}$ move leads the knight to the position `(row, col)`."
   ]
  },
  {
   "cell_type": "code",
   "execution_count": 18,
   "id": "49dcea4a",
   "metadata": {},
   "outputs": [],
   "source": [
    "def show_solution(Board, width=\"50%\"):\n",
    "    n         = len(Board)\n",
    "    Positions = {}\n",
    "    for row in range(n):\n",
    "        for col in range(n):\n",
    "            k = Board[row][col]\n",
    "            Positions[k] = (row, col)\n",
    "    start = (0, 0)\n",
    "    Path  = [start]\n",
    "    for k in range(1, n*n+1):\n",
    "        Path.append(Positions[k])\n",
    "    Visual = problem_board(n, K_start=start, K_path=Path, \n",
    "                           html_width=width, \n",
    "                           arrow_color=\"darkgreen\",\n",
    "                           arrow_width=0.2)\n",
    "    return Visual"
   ]
  },
  {
   "cell_type": "code",
   "execution_count": 19,
   "id": "af845106",
   "metadata": {
    "scrolled": false
   },
   "outputs": [
    {
     "data": {
      "text/html": [
       "<div style='width:50%'><svg xmlns=\"http://www.w3.org/2000/svg\" xmlns:xlink=\"http://www.w3.org/1999/xlink\" version=\"1.2\" baseProfile=\"tiny\" viewBox=\"0 0 128 128\"><defs><g id=\"black-bishop\" class=\"black bishop\" fill=\"none\" fill-rule=\"evenodd\" stroke=\"#000\" stroke-width=\"1.5\" stroke-linecap=\"round\" stroke-linejoin=\"round\"><path d=\"M9 36c3.39-.97 10.11.43 13.5-2 3.39 2.43 10.11 1.03 13.5 2 0 0 1.65.54 3 2-.68.97-1.65.99-3 .5-3.39-.97-10.11.46-13.5-1-3.39 1.46-10.11.03-13.5 1-1.354.49-2.323.47-3-.5 1.354-1.94 3-2 3-2zm6-4c2.5 2.5 12.5 2.5 15 0 .5-1.5 0-2 0-2 0-2.5-2.5-4-2.5-4 5.5-1.5 6-11.5-5-15.5-11 4-10.5 14-5 15.5 0 0-2.5 1.5-2.5 4 0 0-.5.5 0 2zM25 8a2.5 2.5 0 1 1-5 0 2.5 2.5 0 1 1 5 0z\" fill=\"#000\" stroke-linecap=\"butt\" /><path d=\"M17.5 26h10M15 30h15m-7.5-14.5v5M20 18h5\" stroke=\"#fff\" stroke-linejoin=\"miter\" /></g><g id=\"black-king\" class=\"black king\" fill=\"none\" fill-rule=\"evenodd\" stroke=\"#000\" stroke-width=\"1.5\" stroke-linecap=\"round\" stroke-linejoin=\"round\"><path d=\"M22.5 11.63V6\" stroke-linejoin=\"miter\" /><path d=\"M22.5 25s4.5-7.5 3-10.5c0 0-1-2.5-3-2.5s-3 2.5-3 2.5c-1.5 3 3 10.5 3 10.5\" fill=\"#000\" stroke-linecap=\"butt\" stroke-linejoin=\"miter\" /><path d=\"M11.5 37c5.5 3.5 15.5 3.5 21 0v-7s9-4.5 6-10.5c-4-6.5-13.5-3.5-16 4V27v-3.5c-3.5-7.5-13-10.5-16-4-3 6 5 10 5 10V37z\" fill=\"#000\" /><path d=\"M20 8h5\" stroke-linejoin=\"miter\" /><path d=\"M32 29.5s8.5-4 6.03-9.65C34.15 14 25 18 22.5 24.5l.01 2.1-.01-2.1C20 18 9.906 14 6.997 19.85c-2.497 5.65 4.853 9 4.853 9M11.5 30c5.5-3 15.5-3 21 0m-21 3.5c5.5-3 15.5-3 21 0m-21 3.5c5.5-3 15.5-3 21 0\" stroke=\"#fff\" /></g><g id=\"black-knight\" class=\"black knight\" fill=\"none\" fill-rule=\"evenodd\" stroke=\"#000\" stroke-width=\"1.5\" stroke-linecap=\"round\" stroke-linejoin=\"round\"><path d=\"M 22,10 C 32.5,11 38.5,18 38,39 L 15,39 C 15,30 25,32.5 23,18\" style=\"fill:#000000; stroke:#000000;\" /><path d=\"M 24,18 C 24.38,20.91 18.45,25.37 16,27 C 13,29 13.18,31.34 11,31 C 9.958,30.06 12.41,27.96 11,28 C 10,28 11.19,29.23 10,30 C 9,30 5.997,31 6,26 C 6,24 12,14 12,14 C 12,14 13.89,12.1 14,10.5 C 13.27,9.506 13.5,8.5 13.5,7.5 C 14.5,6.5 16.5,10 16.5,10 L 18.5,10 C 18.5,10 19.28,8.008 21,7 C 22,7 22,10 22,10\" style=\"fill:#000000; stroke:#000000;\" /><path d=\"M 9.5 25.5 A 0.5 0.5 0 1 1 8.5,25.5 A 0.5 0.5 0 1 1 9.5 25.5 z\" style=\"fill:#ececec; stroke:#ececec;\" /><path d=\"M 15 15.5 A 0.5 1.5 0 1 1 14,15.5 A 0.5 1.5 0 1 1 15 15.5 z\" transform=\"matrix(0.866,0.5,-0.5,0.866,9.693,-5.173)\" style=\"fill:#ececec; stroke:#ececec;\" /><path d=\"M 24.55,10.4 L 24.1,11.85 L 24.6,12 C 27.75,13 30.25,14.49 32.5,18.75 C 34.75,23.01 35.75,29.06 35.25,39 L 35.2,39.5 L 37.45,39.5 L 37.5,39 C 38,28.94 36.62,22.15 34.25,17.66 C 31.88,13.17 28.46,11.02 25.06,10.5 L 24.55,10.4 z \" style=\"fill:#ececec; stroke:none;\" /></g><g id=\"black-pawn\" class=\"black pawn\"><path d=\"M22.5 9c-2.21 0-4 1.79-4 4 0 .89.29 1.71.78 2.38C17.33 16.5 16 18.59 16 21c0 2.03.94 3.84 2.41 5.03-3 1.06-7.41 5.55-7.41 13.47h23c0-7.92-4.41-12.41-7.41-13.47 1.47-1.19 2.41-3 2.41-5.03 0-2.41-1.33-4.5-3.28-5.62.49-.67.78-1.49.78-2.38 0-2.21-1.79-4-4-4z\" fill=\"#000\" stroke=\"#000\" stroke-width=\"1.5\" stroke-linecap=\"round\" /></g><g id=\"black-queen\" class=\"black queen\" fill=\"#000\" fill-rule=\"evenodd\" stroke=\"#000\" stroke-width=\"1.5\" stroke-linecap=\"round\" stroke-linejoin=\"round\"><g fill=\"#000\" stroke=\"none\"><circle cx=\"6\" cy=\"12\" r=\"2.75\" /><circle cx=\"14\" cy=\"9\" r=\"2.75\" /><circle cx=\"22.5\" cy=\"8\" r=\"2.75\" /><circle cx=\"31\" cy=\"9\" r=\"2.75\" /><circle cx=\"39\" cy=\"12\" r=\"2.75\" /></g><path d=\"M9 26c8.5-1.5 21-1.5 27 0l2.5-12.5L31 25l-.3-14.1-5.2 13.6-3-14.5-3 14.5-5.2-13.6L14 25 6.5 13.5 9 26zM9 26c0 2 1.5 2 2.5 4 1 1.5 1 1 .5 3.5-1.5 1-1.5 2.5-1.5 2.5-1.5 1.5.5 2.5.5 2.5 6.5 1 16.5 1 23 0 0 0 1.5-1 0-2.5 0 0 .5-1.5-1-2.5-.5-2.5-.5-2 .5-3.5 1-2 2.5-2 2.5-4-8.5-1.5-18.5-1.5-27 0z\" stroke-linecap=\"butt\" /><path d=\"M11 38.5a35 35 1 0 0 23 0\" fill=\"none\" stroke-linecap=\"butt\" /><path d=\"M11 29a35 35 1 0 1 23 0M12.5 31.5h20M11.5 34.5a35 35 1 0 0 22 0M10.5 37.5a35 35 1 0 0 24 0\" fill=\"none\" stroke=\"#fff\" /></g><g id=\"black-rook\" class=\"black rook\" fill=\"#000\" fill-rule=\"evenodd\" stroke=\"#000\" stroke-width=\"1.5\" stroke-linecap=\"round\" stroke-linejoin=\"round\"><path d=\"M9 39h27v-3H9v3zM12.5 32l1.5-2.5h17l1.5 2.5h-20zM12 36v-4h21v4H12z\" stroke-linecap=\"butt\" /><path d=\"M14 29.5v-13h17v13H14z\" stroke-linecap=\"butt\" stroke-linejoin=\"miter\" /><path d=\"M14 16.5L11 14h23l-3 2.5H14zM11 14V9h4v2h5V9h5v2h5V9h4v5H11z\" stroke-linecap=\"butt\" /><path d=\"M12 35.5h21M13 31.5h19M14 29.5h17M14 16.5h17M11 14h23\" fill=\"none\" stroke=\"#fff\" stroke-width=\"1\" stroke-linejoin=\"miter\" /></g><g id=\"white-bishop\" class=\"white bishop\" fill=\"none\" fill-rule=\"evenodd\" stroke=\"#000\" stroke-width=\"1.5\" stroke-linecap=\"round\" stroke-linejoin=\"round\"><g fill=\"#fff\" stroke-linecap=\"butt\"><path d=\"M9 36c3.39-.97 10.11.43 13.5-2 3.39 2.43 10.11 1.03 13.5 2 0 0 1.65.54 3 2-.68.97-1.65.99-3 .5-3.39-.97-10.11.46-13.5-1-3.39 1.46-10.11.03-13.5 1-1.354.49-2.323.47-3-.5 1.354-1.94 3-2 3-2zM15 32c2.5 2.5 12.5 2.5 15 0 .5-1.5 0-2 0-2 0-2.5-2.5-4-2.5-4 5.5-1.5 6-11.5-5-15.5-11 4-10.5 14-5 15.5 0 0-2.5 1.5-2.5 4 0 0-.5.5 0 2zM25 8a2.5 2.5 0 1 1-5 0 2.5 2.5 0 1 1 5 0z\" /></g><path d=\"M17.5 26h10M15 30h15m-7.5-14.5v5M20 18h5\" stroke-linejoin=\"miter\" /></g><g id=\"white-king\" class=\"white king\" fill=\"none\" fill-rule=\"evenodd\" stroke=\"#000\" stroke-width=\"1.5\" stroke-linecap=\"round\" stroke-linejoin=\"round\"><path d=\"M22.5 11.63V6M20 8h5\" stroke-linejoin=\"miter\" /><path d=\"M22.5 25s4.5-7.5 3-10.5c0 0-1-2.5-3-2.5s-3 2.5-3 2.5c-1.5 3 3 10.5 3 10.5\" fill=\"#fff\" stroke-linecap=\"butt\" stroke-linejoin=\"miter\" /><path d=\"M11.5 37c5.5 3.5 15.5 3.5 21 0v-7s9-4.5 6-10.5c-4-6.5-13.5-3.5-16 4V27v-3.5c-3.5-7.5-13-10.5-16-4-3 6 5 10 5 10V37z\" fill=\"#fff\" /><path d=\"M11.5 30c5.5-3 15.5-3 21 0m-21 3.5c5.5-3 15.5-3 21 0m-21 3.5c5.5-3 15.5-3 21 0\" /></g><g id=\"white-knight\" class=\"white knight\" fill=\"none\" fill-rule=\"evenodd\" stroke=\"#000\" stroke-width=\"1.5\" stroke-linecap=\"round\" stroke-linejoin=\"round\"><path d=\"M 22,10 C 32.5,11 38.5,18 38,39 L 15,39 C 15,30 25,32.5 23,18\" style=\"fill:#ffffff; stroke:#000000;\" /><path d=\"M 24,18 C 24.38,20.91 18.45,25.37 16,27 C 13,29 13.18,31.34 11,31 C 9.958,30.06 12.41,27.96 11,28 C 10,28 11.19,29.23 10,30 C 9,30 5.997,31 6,26 C 6,24 12,14 12,14 C 12,14 13.89,12.1 14,10.5 C 13.27,9.506 13.5,8.5 13.5,7.5 C 14.5,6.5 16.5,10 16.5,10 L 18.5,10 C 18.5,10 19.28,8.008 21,7 C 22,7 22,10 22,10\" style=\"fill:#ffffff; stroke:#000000;\" /><path d=\"M 9.5 25.5 A 0.5 0.5 0 1 1 8.5,25.5 A 0.5 0.5 0 1 1 9.5 25.5 z\" style=\"fill:#000000; stroke:#000000;\" /><path d=\"M 15 15.5 A 0.5 1.5 0 1 1 14,15.5 A 0.5 1.5 0 1 1 15 15.5 z\" transform=\"matrix(0.866,0.5,-0.5,0.866,9.693,-5.173)\" style=\"fill:#000000; stroke:#000000;\" /></g><g id=\"white-pawn\" class=\"white pawn\"><path d=\"M22.5 9c-2.21 0-4 1.79-4 4 0 .89.29 1.71.78 2.38C17.33 16.5 16 18.59 16 21c0 2.03.94 3.84 2.41 5.03-3 1.06-7.41 5.55-7.41 13.47h23c0-7.92-4.41-12.41-7.41-13.47 1.47-1.19 2.41-3 2.41-5.03 0-2.41-1.33-4.5-3.28-5.62.49-.67.78-1.49.78-2.38 0-2.21-1.79-4-4-4z\" fill=\"#fff\" stroke=\"#000\" stroke-width=\"1.5\" stroke-linecap=\"round\" /></g><g id=\"white-queen\" class=\"white queen\" fill=\"#fff\" fill-rule=\"evenodd\" stroke=\"#000\" stroke-width=\"1.5\" stroke-linecap=\"round\" stroke-linejoin=\"round\"><path d=\"M8 12a2 2 0 1 1-4 0 2 2 0 1 1 4 0zM24.5 7.5a2 2 0 1 1-4 0 2 2 0 1 1 4 0zM41 12a2 2 0 1 1-4 0 2 2 0 1 1 4 0zM16 8.5a2 2 0 1 1-4 0 2 2 0 1 1 4 0zM33 9a2 2 0 1 1-4 0 2 2 0 1 1 4 0z\" /><path d=\"M9 26c8.5-1.5 21-1.5 27 0l2-12-7 11V11l-5.5 13.5-3-15-3 15-5.5-14V25L7 14l2 12zM9 26c0 2 1.5 2 2.5 4 1 1.5 1 1 .5 3.5-1.5 1-1.5 2.5-1.5 2.5-1.5 1.5.5 2.5.5 2.5 6.5 1 16.5 1 23 0 0 0 1.5-1 0-2.5 0 0 .5-1.5-1-2.5-.5-2.5-.5-2 .5-3.5 1-2 2.5-2 2.5-4-8.5-1.5-18.5-1.5-27 0z\" stroke-linecap=\"butt\" /><path d=\"M11.5 30c3.5-1 18.5-1 22 0M12 33.5c6-1 15-1 21 0\" fill=\"none\" /></g><g id=\"white-rook\" class=\"white rook\" fill=\"#fff\" fill-rule=\"evenodd\" stroke=\"#000\" stroke-width=\"1.5\" stroke-linecap=\"round\" stroke-linejoin=\"round\"><path d=\"M9 39h27v-3H9v3zM12 36v-4h21v4H12zM11 14V9h4v2h5V9h5v2h5V9h4v5\" stroke-linecap=\"butt\" /><path d=\"M34 14l-3 3H14l-3-3\" /><path d=\"M31 17v12.5H14V17\" stroke-linecap=\"butt\" stroke-linejoin=\"miter\" /><path d=\"M31 29.5l1.5 2.5h-20l1.5-2.5\" /><path d=\"M11 14h23\" fill=\"none\" stroke-linejoin=\"miter\" /></g></defs><rect x=\"0\" y=\"0\" width=\"16\" height=\"16\" class=\"square light\" stroke=\"none\" fill=\"#ffce9e\" opacity=\"1.0\" /><rect x=\"0\" y=\"16\" width=\"16\" height=\"16\" class=\"square dark\" stroke=\"none\" fill=\"#d18b47\" opacity=\"1.0\" /><rect x=\"0\" y=\"32\" width=\"16\" height=\"16\" class=\"square light\" stroke=\"none\" fill=\"#ffce9e\" opacity=\"1.0\" /><rect x=\"0\" y=\"48\" width=\"16\" height=\"16\" class=\"square dark\" stroke=\"none\" fill=\"#d18b47\" opacity=\"1.0\" /><rect x=\"0\" y=\"64\" width=\"16\" height=\"16\" class=\"square light\" stroke=\"none\" fill=\"#ffce9e\" opacity=\"1.0\" /><rect x=\"0\" y=\"80\" width=\"16\" height=\"16\" class=\"square dark\" stroke=\"none\" fill=\"#d18b47\" opacity=\"1.0\" /><rect x=\"0\" y=\"96\" width=\"16\" height=\"16\" class=\"square light\" stroke=\"none\" fill=\"#ffce9e\" opacity=\"1.0\" /><rect x=\"0\" y=\"112\" width=\"16\" height=\"16\" class=\"square dark\" stroke=\"none\" fill=\"#d18b47\" opacity=\"1.0\" /><rect x=\"16\" y=\"0\" width=\"16\" height=\"16\" class=\"square dark\" stroke=\"none\" fill=\"#d18b47\" opacity=\"1.0\" /><rect x=\"16\" y=\"16\" width=\"16\" height=\"16\" class=\"square light\" stroke=\"none\" fill=\"#ffce9e\" opacity=\"1.0\" /><rect x=\"16\" y=\"32\" width=\"16\" height=\"16\" class=\"square dark\" stroke=\"none\" fill=\"#d18b47\" opacity=\"1.0\" /><rect x=\"16\" y=\"48\" width=\"16\" height=\"16\" class=\"square light\" stroke=\"none\" fill=\"#ffce9e\" opacity=\"1.0\" /><rect x=\"16\" y=\"64\" width=\"16\" height=\"16\" class=\"square dark\" stroke=\"none\" fill=\"#d18b47\" opacity=\"1.0\" /><rect x=\"16\" y=\"80\" width=\"16\" height=\"16\" class=\"square light\" stroke=\"none\" fill=\"#ffce9e\" opacity=\"1.0\" /><rect x=\"16\" y=\"96\" width=\"16\" height=\"16\" class=\"square dark\" stroke=\"none\" fill=\"#d18b47\" opacity=\"1.0\" /><rect x=\"16\" y=\"112\" width=\"16\" height=\"16\" class=\"square light\" stroke=\"none\" fill=\"#ffce9e\" opacity=\"1.0\" /><rect x=\"32\" y=\"0\" width=\"16\" height=\"16\" class=\"square light\" stroke=\"none\" fill=\"#ffce9e\" opacity=\"1.0\" /><rect x=\"32\" y=\"16\" width=\"16\" height=\"16\" class=\"square dark\" stroke=\"none\" fill=\"#d18b47\" opacity=\"1.0\" /><rect x=\"32\" y=\"32\" width=\"16\" height=\"16\" class=\"square light\" stroke=\"none\" fill=\"#ffce9e\" opacity=\"1.0\" /><rect x=\"32\" y=\"48\" width=\"16\" height=\"16\" class=\"square dark\" stroke=\"none\" fill=\"#d18b47\" opacity=\"1.0\" /><rect x=\"32\" y=\"64\" width=\"16\" height=\"16\" class=\"square light\" stroke=\"none\" fill=\"#ffce9e\" opacity=\"1.0\" /><rect x=\"32\" y=\"80\" width=\"16\" height=\"16\" class=\"square dark\" stroke=\"none\" fill=\"#d18b47\" opacity=\"1.0\" /><rect x=\"32\" y=\"96\" width=\"16\" height=\"16\" class=\"square light\" stroke=\"none\" fill=\"#ffce9e\" opacity=\"1.0\" /><rect x=\"32\" y=\"112\" width=\"16\" height=\"16\" class=\"square dark\" stroke=\"none\" fill=\"#d18b47\" opacity=\"1.0\" /><rect x=\"48\" y=\"0\" width=\"16\" height=\"16\" class=\"square dark\" stroke=\"none\" fill=\"#d18b47\" opacity=\"1.0\" /><rect x=\"48\" y=\"16\" width=\"16\" height=\"16\" class=\"square light\" stroke=\"none\" fill=\"#ffce9e\" opacity=\"1.0\" /><rect x=\"48\" y=\"32\" width=\"16\" height=\"16\" class=\"square dark\" stroke=\"none\" fill=\"#d18b47\" opacity=\"1.0\" /><rect x=\"48\" y=\"48\" width=\"16\" height=\"16\" class=\"square light\" stroke=\"none\" fill=\"#ffce9e\" opacity=\"1.0\" /><rect x=\"48\" y=\"64\" width=\"16\" height=\"16\" class=\"square dark\" stroke=\"none\" fill=\"#d18b47\" opacity=\"1.0\" /><rect x=\"48\" y=\"80\" width=\"16\" height=\"16\" class=\"square light\" stroke=\"none\" fill=\"#ffce9e\" opacity=\"1.0\" /><rect x=\"48\" y=\"96\" width=\"16\" height=\"16\" class=\"square dark\" stroke=\"none\" fill=\"#d18b47\" opacity=\"1.0\" /><rect x=\"48\" y=\"112\" width=\"16\" height=\"16\" class=\"square light\" stroke=\"none\" fill=\"#ffce9e\" opacity=\"1.0\" /><rect x=\"64\" y=\"0\" width=\"16\" height=\"16\" class=\"square light\" stroke=\"none\" fill=\"#ffce9e\" opacity=\"1.0\" /><rect x=\"64\" y=\"16\" width=\"16\" height=\"16\" class=\"square dark\" stroke=\"none\" fill=\"#d18b47\" opacity=\"1.0\" /><rect x=\"64\" y=\"32\" width=\"16\" height=\"16\" class=\"square light\" stroke=\"none\" fill=\"#ffce9e\" opacity=\"1.0\" /><rect x=\"64\" y=\"48\" width=\"16\" height=\"16\" class=\"square dark\" stroke=\"none\" fill=\"#d18b47\" opacity=\"1.0\" /><rect x=\"64\" y=\"64\" width=\"16\" height=\"16\" class=\"square light\" stroke=\"none\" fill=\"#ffce9e\" opacity=\"1.0\" /><rect x=\"64\" y=\"80\" width=\"16\" height=\"16\" class=\"square dark\" stroke=\"none\" fill=\"#d18b47\" opacity=\"1.0\" /><rect x=\"64\" y=\"96\" width=\"16\" height=\"16\" class=\"square light\" stroke=\"none\" fill=\"#ffce9e\" opacity=\"1.0\" /><rect x=\"64\" y=\"112\" width=\"16\" height=\"16\" class=\"square dark\" stroke=\"none\" fill=\"#d18b47\" opacity=\"1.0\" /><rect x=\"80\" y=\"0\" width=\"16\" height=\"16\" class=\"square dark\" stroke=\"none\" fill=\"#d18b47\" opacity=\"1.0\" /><rect x=\"80\" y=\"16\" width=\"16\" height=\"16\" class=\"square light\" stroke=\"none\" fill=\"#ffce9e\" opacity=\"1.0\" /><rect x=\"80\" y=\"32\" width=\"16\" height=\"16\" class=\"square dark\" stroke=\"none\" fill=\"#d18b47\" opacity=\"1.0\" /><rect x=\"80\" y=\"48\" width=\"16\" height=\"16\" class=\"square light\" stroke=\"none\" fill=\"#ffce9e\" opacity=\"1.0\" /><rect x=\"80\" y=\"64\" width=\"16\" height=\"16\" class=\"square dark\" stroke=\"none\" fill=\"#d18b47\" opacity=\"1.0\" /><rect x=\"80\" y=\"80\" width=\"16\" height=\"16\" class=\"square light\" stroke=\"none\" fill=\"#ffce9e\" opacity=\"1.0\" /><rect x=\"80\" y=\"96\" width=\"16\" height=\"16\" class=\"square dark\" stroke=\"none\" fill=\"#d18b47\" opacity=\"1.0\" /><rect x=\"80\" y=\"112\" width=\"16\" height=\"16\" class=\"square light\" stroke=\"none\" fill=\"#ffce9e\" opacity=\"1.0\" /><rect x=\"96\" y=\"0\" width=\"16\" height=\"16\" class=\"square light\" stroke=\"none\" fill=\"#ffce9e\" opacity=\"1.0\" /><rect x=\"96\" y=\"16\" width=\"16\" height=\"16\" class=\"square dark\" stroke=\"none\" fill=\"#d18b47\" opacity=\"1.0\" /><rect x=\"96\" y=\"32\" width=\"16\" height=\"16\" class=\"square light\" stroke=\"none\" fill=\"#ffce9e\" opacity=\"1.0\" /><rect x=\"96\" y=\"48\" width=\"16\" height=\"16\" class=\"square dark\" stroke=\"none\" fill=\"#d18b47\" opacity=\"1.0\" /><rect x=\"96\" y=\"64\" width=\"16\" height=\"16\" class=\"square light\" stroke=\"none\" fill=\"#ffce9e\" opacity=\"1.0\" /><rect x=\"96\" y=\"80\" width=\"16\" height=\"16\" class=\"square dark\" stroke=\"none\" fill=\"#d18b47\" opacity=\"1.0\" /><rect x=\"96\" y=\"96\" width=\"16\" height=\"16\" class=\"square light\" stroke=\"none\" fill=\"#ffce9e\" opacity=\"1.0\" /><rect x=\"96\" y=\"112\" width=\"16\" height=\"16\" class=\"square dark\" stroke=\"none\" fill=\"#d18b47\" opacity=\"1.0\" /><rect x=\"112\" y=\"0\" width=\"16\" height=\"16\" class=\"square dark\" stroke=\"none\" fill=\"#d18b47\" opacity=\"1.0\" /><rect x=\"112\" y=\"16\" width=\"16\" height=\"16\" class=\"square light\" stroke=\"none\" fill=\"#ffce9e\" opacity=\"1.0\" /><rect x=\"112\" y=\"32\" width=\"16\" height=\"16\" class=\"square dark\" stroke=\"none\" fill=\"#d18b47\" opacity=\"1.0\" /><rect x=\"112\" y=\"48\" width=\"16\" height=\"16\" class=\"square light\" stroke=\"none\" fill=\"#ffce9e\" opacity=\"1.0\" /><rect x=\"112\" y=\"64\" width=\"16\" height=\"16\" class=\"square dark\" stroke=\"none\" fill=\"#d18b47\" opacity=\"1.0\" /><rect x=\"112\" y=\"80\" width=\"16\" height=\"16\" class=\"square light\" stroke=\"none\" fill=\"#ffce9e\" opacity=\"1.0\" /><rect x=\"112\" y=\"96\" width=\"16\" height=\"16\" class=\"square dark\" stroke=\"none\" fill=\"#d18b47\" opacity=\"1.0\" /><rect x=\"112\" y=\"112\" width=\"16\" height=\"16\" class=\"square light\" stroke=\"none\" fill=\"#ffce9e\" opacity=\"1.0\" /><use href=\"#white-knight\" xlink:href=\"#white-knight\" transform=\"translate(0, 0) scale(0.355556)\" /><line x1=\"8.0\" y1=\"8.0\" x2=\"17.91789510120057\" y2=\"27.835790202401142\" stroke=\"darkgreen\" stroke-width=\"0.6400000000000001\" stroke-linecap=\"butt\" class=\"arrow\" /><polygon points=\"23.284458247200067,38.568916494400135 18.991207730400472,27.299133887801194 16.84458247200067,28.37244651700109\" fill=\"darkgreen\" class=\"arrow\" /><line x1=\"24.0\" y1=\"40.0\" x2=\"43.83579020240114\" y2=\"49.91789510120057\" stroke=\"darkgreen\" stroke-width=\"0.6400000000000001\" stroke-linecap=\"butt\" class=\"arrow\" /><polygon points=\"54.568916494400135,55.284458247200064 44.372446517001094,48.844582472000674 43.29913388780119,50.99120773040047\" fill=\"darkgreen\" class=\"arrow\" /><line x1=\"56.0\" y1=\"56.0\" x2=\"65.91789510120057\" y2=\"75.83579020240114\" stroke=\"darkgreen\" stroke-width=\"0.6400000000000001\" stroke-linecap=\"butt\" class=\"arrow\" /><polygon points=\"71.28445824720006,86.56891649440013 66.99120773040048,75.29913388780119 64.84458247200067,76.3724465170011\" fill=\"darkgreen\" class=\"arrow\" /><line x1=\"72.0\" y1=\"88.0\" x2=\"62.08210489879943\" y2=\"107.83579020240114\" stroke=\"darkgreen\" stroke-width=\"0.6400000000000001\" stroke-linecap=\"butt\" class=\"arrow\" /><polygon points=\"56.715541752799936,118.56891649440013 63.155417527999326,108.3724465170011 61.00879226959953,107.29913388780119\" fill=\"darkgreen\" class=\"arrow\" /><line x1=\"56.0\" y1=\"120.0\" x2=\"36.16420979759886\" y2=\"110.08210489879943\" stroke=\"darkgreen\" stroke-width=\"0.6400000000000001\" stroke-linecap=\"butt\" class=\"arrow\" /><polygon points=\"25.431083505599865,104.71554175279994 35.627553482998906,111.15541752799933 36.70086611219881,109.00879226959952\" fill=\"darkgreen\" class=\"arrow\" /><line x1=\"24.0\" y1=\"104.0\" x2=\"14.082104898799429\" y2=\"84.16420979759886\" stroke=\"darkgreen\" stroke-width=\"0.6400000000000001\" stroke-linecap=\"butt\" class=\"arrow\" /><polygon points=\"8.715541752799933,73.43108350559987 13.00879226959953,84.70086611219881 15.155417527999328,83.6275534829989\" fill=\"darkgreen\" class=\"arrow\" /><line x1=\"8.0\" y1=\"72.0\" x2=\"27.835790202401142\" y2=\"62.08210489879943\" stroke=\"darkgreen\" stroke-width=\"0.6400000000000001\" stroke-linecap=\"butt\" class=\"arrow\" /><polygon points=\"38.568916494400135,56.715541752799936 27.299133887801194,61.00879226959953 28.37244651700109,63.155417527999326\" fill=\"darkgreen\" class=\"arrow\" /><line x1=\"40.0\" y1=\"56.0\" x2=\"49.91789510120057\" y2=\"36.16420979759886\" stroke=\"darkgreen\" stroke-width=\"0.6400000000000001\" stroke-linecap=\"butt\" class=\"arrow\" /><polygon points=\"55.284458247200064,25.431083505599865 48.844582472000674,35.627553482998906 50.99120773040047,36.70086611219881\" fill=\"darkgreen\" class=\"arrow\" /><line x1=\"56.0\" y1=\"24.0\" x2=\"36.16420979759886\" y2=\"14.082104898799429\" stroke=\"darkgreen\" stroke-width=\"0.6400000000000001\" stroke-linecap=\"butt\" class=\"arrow\" /><polygon points=\"25.431083505599865,8.715541752799933 35.627553482998906,15.155417527999328 36.70086611219881,13.00879226959953\" fill=\"darkgreen\" class=\"arrow\" /><line x1=\"24.0\" y1=\"8.0\" x2=\"14.082104898799429\" y2=\"27.835790202401142\" stroke=\"darkgreen\" stroke-width=\"0.6400000000000001\" stroke-linecap=\"butt\" class=\"arrow\" /><polygon points=\"8.715541752799933,38.568916494400135 15.155417527999328,28.37244651700109 13.00879226959953,27.299133887801194\" fill=\"darkgreen\" class=\"arrow\" /><line x1=\"8.0\" y1=\"40.0\" x2=\"17.91789510120057\" y2=\"59.83579020240114\" stroke=\"darkgreen\" stroke-width=\"0.6400000000000001\" stroke-linecap=\"butt\" class=\"arrow\" /><polygon points=\"23.284458247200067,70.56891649440013 18.991207730400472,59.29913388780119 16.84458247200067,60.372446517001094\" fill=\"darkgreen\" class=\"arrow\" /><line x1=\"24.0\" y1=\"72.0\" x2=\"33.91789510120057\" y2=\"91.83579020240114\" stroke=\"darkgreen\" stroke-width=\"0.6400000000000001\" stroke-linecap=\"butt\" class=\"arrow\" /><polygon points=\"39.284458247200064,102.56891649440013 34.99120773040047,91.29913388780119 32.844582472000674,92.3724465170011\" fill=\"darkgreen\" class=\"arrow\" /><line x1=\"40.0\" y1=\"104.0\" x2=\"20.164209797598858\" y2=\"113.91789510120057\" stroke=\"darkgreen\" stroke-width=\"0.6400000000000001\" stroke-linecap=\"butt\" class=\"arrow\" /><polygon points=\"9.431083505599865,119.28445824720006 20.700866112198806,114.99120773040048 19.62755348299891,112.84458247200067\" fill=\"darkgreen\" class=\"arrow\" /><line x1=\"8.0\" y1=\"120.0\" x2=\"17.91789510120057\" y2=\"100.16420979759886\" stroke=\"darkgreen\" stroke-width=\"0.6400000000000001\" stroke-linecap=\"butt\" class=\"arrow\" /><polygon points=\"23.284458247200067,89.43108350559987 16.84458247200067,99.6275534829989 18.991207730400472,100.70086611219881\" fill=\"darkgreen\" class=\"arrow\" /><line x1=\"24.0\" y1=\"88.0\" x2=\"14.082104898799429\" y2=\"68.16420979759886\" stroke=\"darkgreen\" stroke-width=\"0.6400000000000001\" stroke-linecap=\"butt\" class=\"arrow\" /><polygon points=\"8.715541752799933,57.431083505599865 13.00879226959953,68.70086611219881 15.155417527999328,67.6275534829989\" fill=\"darkgreen\" class=\"arrow\" /><line x1=\"8.0\" y1=\"56.0\" x2=\"17.91789510120057\" y2=\"36.16420979759886\" stroke=\"darkgreen\" stroke-width=\"0.6400000000000001\" stroke-linecap=\"butt\" class=\"arrow\" /><polygon points=\"23.284458247200067,25.431083505599865 16.84458247200067,35.627553482998906 18.991207730400472,36.70086611219881\" fill=\"darkgreen\" class=\"arrow\" /><line x1=\"24.0\" y1=\"24.0\" x2=\"43.83579020240114\" y2=\"14.082104898799429\" stroke=\"darkgreen\" stroke-width=\"0.6400000000000001\" stroke-linecap=\"butt\" class=\"arrow\" /><polygon points=\"54.568916494400135,8.715541752799933 43.29913388780119,13.00879226959953 44.372446517001094,15.155417527999328\" fill=\"darkgreen\" class=\"arrow\" /><line x1=\"56.0\" y1=\"8.0\" x2=\"75.83579020240114\" y2=\"17.91789510120057\" stroke=\"darkgreen\" stroke-width=\"0.6400000000000001\" stroke-linecap=\"butt\" class=\"arrow\" /><polygon points=\"86.56891649440013,23.284458247200067 76.3724465170011,16.84458247200067 75.29913388780119,18.991207730400472\" fill=\"darkgreen\" class=\"arrow\" /><line x1=\"88.0\" y1=\"24.0\" x2=\"107.83579020240114\" y2=\"14.082104898799429\" stroke=\"darkgreen\" stroke-width=\"0.6400000000000001\" stroke-linecap=\"butt\" class=\"arrow\" /><polygon points=\"118.56891649440013,8.715541752799933 107.29913388780119,13.00879226959953 108.3724465170011,15.155417527999328\" fill=\"darkgreen\" class=\"arrow\" /><line x1=\"120.0\" y1=\"8.0\" x2=\"110.08210489879943\" y2=\"27.835790202401142\" stroke=\"darkgreen\" stroke-width=\"0.6400000000000001\" stroke-linecap=\"butt\" class=\"arrow\" /><polygon points=\"104.71554175279994,38.568916494400135 111.15541752799933,28.37244651700109 109.00879226959952,27.299133887801194\" fill=\"darkgreen\" class=\"arrow\" /><line x1=\"104.0\" y1=\"40.0\" x2=\"84.16420979759886\" y2=\"30.08210489879943\" stroke=\"darkgreen\" stroke-width=\"0.6400000000000001\" stroke-linecap=\"butt\" class=\"arrow\" /><polygon points=\"73.43108350559987,24.715541752799933 83.6275534829989,31.15541752799933 84.70086611219881,29.008792269599528\" fill=\"darkgreen\" class=\"arrow\" /><line x1=\"72.0\" y1=\"24.0\" x2=\"91.83579020240114\" y2=\"14.082104898799429\" stroke=\"darkgreen\" stroke-width=\"0.6400000000000001\" stroke-linecap=\"butt\" class=\"arrow\" /><polygon points=\"102.56891649440013,8.715541752799933 91.29913388780119,13.00879226959953 92.3724465170011,15.155417527999328\" fill=\"darkgreen\" class=\"arrow\" /><line x1=\"104.0\" y1=\"8.0\" x2=\"94.08210489879943\" y2=\"27.835790202401142\" stroke=\"darkgreen\" stroke-width=\"0.6400000000000001\" stroke-linecap=\"butt\" class=\"arrow\" /><polygon points=\"88.71554175279994,38.568916494400135 95.15541752799933,28.37244651700109 93.00879226959952,27.299133887801194\" fill=\"darkgreen\" class=\"arrow\" /><line x1=\"88.0\" y1=\"40.0\" x2=\"78.08210489879943\" y2=\"20.164209797598858\" stroke=\"darkgreen\" stroke-width=\"0.6400000000000001\" stroke-linecap=\"butt\" class=\"arrow\" /><polygon points=\"72.71554175279994,9.431083505599865 77.00879226959952,20.700866112198806 79.15541752799933,19.62755348299891\" fill=\"darkgreen\" class=\"arrow\" /><line x1=\"72.0\" y1=\"8.0\" x2=\"91.83579020240114\" y2=\"17.91789510120057\" stroke=\"darkgreen\" stroke-width=\"0.6400000000000001\" stroke-linecap=\"butt\" class=\"arrow\" /><polygon points=\"102.56891649440013,23.284458247200067 92.3724465170011,16.84458247200067 91.29913388780119,18.991207730400472\" fill=\"darkgreen\" class=\"arrow\" /><line x1=\"104.0\" y1=\"24.0\" x2=\"113.91789510120057\" y2=\"43.83579020240114\" stroke=\"darkgreen\" stroke-width=\"0.6400000000000001\" stroke-linecap=\"butt\" class=\"arrow\" /><polygon points=\"119.28445824720006,54.568916494400135 114.99120773040048,43.29913388780119 112.84458247200067,44.372446517001094\" fill=\"darkgreen\" class=\"arrow\" /><line x1=\"120.0\" y1=\"56.0\" x2=\"100.16420979759886\" y2=\"65.91789510120057\" stroke=\"darkgreen\" stroke-width=\"0.6400000000000001\" stroke-linecap=\"butt\" class=\"arrow\" /><polygon points=\"89.43108350559987,71.28445824720006 100.70086611219881,66.99120773040048 99.6275534829989,64.84458247200067\" fill=\"darkgreen\" class=\"arrow\" /><line x1=\"88.0\" y1=\"72.0\" x2=\"107.83579020240114\" y2=\"81.91789510120057\" stroke=\"darkgreen\" stroke-width=\"0.6400000000000001\" stroke-linecap=\"butt\" class=\"arrow\" /><polygon points=\"118.56891649440013,87.28445824720006 108.3724465170011,80.84458247200067 107.29913388780119,82.99120773040048\" fill=\"darkgreen\" class=\"arrow\" /><line x1=\"120.0\" y1=\"88.0\" x2=\"110.08210489879943\" y2=\"107.83579020240114\" stroke=\"darkgreen\" stroke-width=\"0.6400000000000001\" stroke-linecap=\"butt\" class=\"arrow\" /><polygon points=\"104.71554175279994,118.56891649440013 111.15541752799933,108.3724465170011 109.00879226959952,107.29913388780119\" fill=\"darkgreen\" class=\"arrow\" /><line x1=\"104.0\" y1=\"120.0\" x2=\"84.16420979759886\" y2=\"110.08210489879943\" stroke=\"darkgreen\" stroke-width=\"0.6400000000000001\" stroke-linecap=\"butt\" class=\"arrow\" /><polygon points=\"73.43108350559987,104.71554175279994 83.6275534829989,111.15541752799933 84.70086611219881,109.00879226959952\" fill=\"darkgreen\" class=\"arrow\" /><line x1=\"72.0\" y1=\"104.0\" x2=\"62.08210489879943\" y2=\"84.16420979759886\" stroke=\"darkgreen\" stroke-width=\"0.6400000000000001\" stroke-linecap=\"butt\" class=\"arrow\" /><polygon points=\"56.715541752799936,73.43108350559987 61.00879226959953,84.70086611219881 63.155417527999326,83.6275534829989\" fill=\"darkgreen\" class=\"arrow\" /><line x1=\"56.0\" y1=\"72.0\" x2=\"46.08210489879943\" y2=\"52.16420979759886\" stroke=\"darkgreen\" stroke-width=\"0.6400000000000001\" stroke-linecap=\"butt\" class=\"arrow\" /><polygon points=\"40.715541752799936,41.431083505599865 45.00879226959953,52.70086611219881 47.155417527999326,51.627553482998906\" fill=\"darkgreen\" class=\"arrow\" /><line x1=\"40.0\" y1=\"40.0\" x2=\"20.164209797598858\" y2=\"30.08210489879943\" stroke=\"darkgreen\" stroke-width=\"0.6400000000000001\" stroke-linecap=\"butt\" class=\"arrow\" /><polygon points=\"9.431083505599865,24.715541752799933 19.62755348299891,31.15541752799933 20.700866112198806,29.008792269599528\" fill=\"darkgreen\" class=\"arrow\" /><line x1=\"8.0\" y1=\"24.0\" x2=\"27.835790202401142\" y2=\"14.082104898799429\" stroke=\"darkgreen\" stroke-width=\"0.6400000000000001\" stroke-linecap=\"butt\" class=\"arrow\" /><polygon points=\"38.568916494400135,8.715541752799933 27.299133887801194,13.00879226959953 28.37244651700109,15.155417527999328\" fill=\"darkgreen\" class=\"arrow\" /><line x1=\"40.0\" y1=\"8.0\" x2=\"49.91789510120057\" y2=\"27.835790202401142\" stroke=\"darkgreen\" stroke-width=\"0.6400000000000001\" stroke-linecap=\"butt\" class=\"arrow\" /><polygon points=\"55.284458247200064,38.568916494400135 50.99120773040047,27.299133887801194 48.844582472000674,28.37244651700109\" fill=\"darkgreen\" class=\"arrow\" /><line x1=\"56.0\" y1=\"40.0\" x2=\"36.16420979759886\" y2=\"49.91789510120057\" stroke=\"darkgreen\" stroke-width=\"0.6400000000000001\" stroke-linecap=\"butt\" class=\"arrow\" /><polygon points=\"25.431083505599865,55.284458247200064 36.70086611219881,50.99120773040047 35.627553482998906,48.844582472000674\" fill=\"darkgreen\" class=\"arrow\" /><line x1=\"24.0\" y1=\"56.0\" x2=\"33.91789510120057\" y2=\"75.83579020240114\" stroke=\"darkgreen\" stroke-width=\"0.6400000000000001\" stroke-linecap=\"butt\" class=\"arrow\" /><polygon points=\"39.284458247200064,86.56891649440013 34.99120773040047,75.29913388780119 32.844582472000674,76.3724465170011\" fill=\"darkgreen\" class=\"arrow\" /><line x1=\"40.0\" y1=\"88.0\" x2=\"20.164209797598858\" y2=\"97.91789510120057\" stroke=\"darkgreen\" stroke-width=\"0.6400000000000001\" stroke-linecap=\"butt\" class=\"arrow\" /><polygon points=\"9.431083505599865,103.28445824720006 20.700866112198806,98.99120773040048 19.62755348299891,96.84458247200067\" fill=\"darkgreen\" class=\"arrow\" /><line x1=\"8.0\" y1=\"104.0\" x2=\"27.835790202401142\" y2=\"113.91789510120057\" stroke=\"darkgreen\" stroke-width=\"0.6400000000000001\" stroke-linecap=\"butt\" class=\"arrow\" /><polygon points=\"38.568916494400135,119.28445824720006 28.37244651700109,112.84458247200067 27.299133887801194,114.99120773040048\" fill=\"darkgreen\" class=\"arrow\" /><line x1=\"40.0\" y1=\"120.0\" x2=\"49.91789510120057\" y2=\"100.16420979759886\" stroke=\"darkgreen\" stroke-width=\"0.6400000000000001\" stroke-linecap=\"butt\" class=\"arrow\" /><polygon points=\"55.284458247200064,89.43108350559987 48.844582472000674,99.6275534829989 50.99120773040047,100.70086611219881\" fill=\"darkgreen\" class=\"arrow\" /><line x1=\"56.0\" y1=\"88.0\" x2=\"65.91789510120057\" y2=\"107.83579020240114\" stroke=\"darkgreen\" stroke-width=\"0.6400000000000001\" stroke-linecap=\"butt\" class=\"arrow\" /><polygon points=\"71.28445824720006,118.56891649440013 66.99120773040048,107.29913388780119 64.84458247200067,108.3724465170011\" fill=\"darkgreen\" class=\"arrow\" /><line x1=\"72.0\" y1=\"120.0\" x2=\"91.83579020240114\" y2=\"110.08210489879943\" stroke=\"darkgreen\" stroke-width=\"0.6400000000000001\" stroke-linecap=\"butt\" class=\"arrow\" /><polygon points=\"102.56891649440013,104.71554175279994 91.29913388780119,109.00879226959952 92.3724465170011,111.15541752799933\" fill=\"darkgreen\" class=\"arrow\" /><line x1=\"104.0\" y1=\"104.0\" x2=\"113.91789510120057\" y2=\"84.16420979759886\" stroke=\"darkgreen\" stroke-width=\"0.6400000000000001\" stroke-linecap=\"butt\" class=\"arrow\" /><polygon points=\"119.28445824720006,73.43108350559987 112.84458247200067,83.6275534829989 114.99120773040048,84.70086611219881\" fill=\"darkgreen\" class=\"arrow\" /><line x1=\"120.0\" y1=\"72.0\" x2=\"100.16420979759886\" y2=\"62.08210489879943\" stroke=\"darkgreen\" stroke-width=\"0.6400000000000001\" stroke-linecap=\"butt\" class=\"arrow\" /><polygon points=\"89.43108350559987,56.715541752799936 99.6275534829989,63.155417527999326 100.70086611219881,61.00879226959953\" fill=\"darkgreen\" class=\"arrow\" /><line x1=\"88.0\" y1=\"56.0\" x2=\"107.83579020240114\" y2=\"46.08210489879943\" stroke=\"darkgreen\" stroke-width=\"0.6400000000000001\" stroke-linecap=\"butt\" class=\"arrow\" /><polygon points=\"118.56891649440013,40.715541752799936 107.29913388780119,45.00879226959953 108.3724465170011,47.155417527999326\" fill=\"darkgreen\" class=\"arrow\" /><line x1=\"120.0\" y1=\"40.0\" x2=\"110.08210489879943\" y2=\"59.83579020240114\" stroke=\"darkgreen\" stroke-width=\"0.6400000000000001\" stroke-linecap=\"butt\" class=\"arrow\" /><polygon points=\"104.71554175279994,70.56891649440013 111.15541752799933,60.372446517001094 109.00879226959952,59.29913388780119\" fill=\"darkgreen\" class=\"arrow\" /><line x1=\"104.0\" y1=\"72.0\" x2=\"94.08210489879943\" y2=\"91.83579020240114\" stroke=\"darkgreen\" stroke-width=\"0.6400000000000001\" stroke-linecap=\"butt\" class=\"arrow\" /><polygon points=\"88.71554175279994,102.56891649440013 95.15541752799933,92.3724465170011 93.00879226959952,91.29913388780119\" fill=\"darkgreen\" class=\"arrow\" /><line x1=\"88.0\" y1=\"104.0\" x2=\"107.83579020240114\" y2=\"113.91789510120057\" stroke=\"darkgreen\" stroke-width=\"0.6400000000000001\" stroke-linecap=\"butt\" class=\"arrow\" /><polygon points=\"118.56891649440013,119.28445824720006 108.3724465170011,112.84458247200067 107.29913388780119,114.99120773040048\" fill=\"darkgreen\" class=\"arrow\" /><line x1=\"120.0\" y1=\"120.0\" x2=\"110.08210489879943\" y2=\"100.16420979759886\" stroke=\"darkgreen\" stroke-width=\"0.6400000000000001\" stroke-linecap=\"butt\" class=\"arrow\" /><polygon points=\"104.71554175279994,89.43108350559987 109.00879226959952,100.70086611219881 111.15541752799933,99.6275534829989\" fill=\"darkgreen\" class=\"arrow\" /><line x1=\"104.0\" y1=\"88.0\" x2=\"94.08210489879943\" y2=\"107.83579020240114\" stroke=\"darkgreen\" stroke-width=\"0.6400000000000001\" stroke-linecap=\"butt\" class=\"arrow\" /><polygon points=\"88.71554175279994,118.56891649440013 95.15541752799933,108.3724465170011 93.00879226959952,107.29913388780119\" fill=\"darkgreen\" class=\"arrow\" /><line x1=\"88.0\" y1=\"120.0\" x2=\"107.83579020240114\" y2=\"110.08210489879943\" stroke=\"darkgreen\" stroke-width=\"0.6400000000000001\" stroke-linecap=\"butt\" class=\"arrow\" /><polygon points=\"118.56891649440013,104.71554175279994 107.29913388780119,109.00879226959952 108.3724465170011,111.15541752799933\" fill=\"darkgreen\" class=\"arrow\" /><line x1=\"120.0\" y1=\"104.0\" x2=\"100.16420979759886\" y2=\"94.08210489879943\" stroke=\"darkgreen\" stroke-width=\"0.6400000000000001\" stroke-linecap=\"butt\" class=\"arrow\" /><polygon points=\"89.43108350559987,88.71554175279994 99.6275534829989,95.15541752799933 100.70086611219881,93.00879226959952\" fill=\"darkgreen\" class=\"arrow\" /><line x1=\"88.0\" y1=\"88.0\" x2=\"78.08210489879943\" y2=\"68.16420979759886\" stroke=\"darkgreen\" stroke-width=\"0.6400000000000001\" stroke-linecap=\"butt\" class=\"arrow\" /><polygon points=\"72.71554175279994,57.431083505599865 77.00879226959952,68.70086611219881 79.15541752799933,67.6275534829989\" fill=\"darkgreen\" class=\"arrow\" /><line x1=\"72.0\" y1=\"56.0\" x2=\"52.16420979759886\" y2=\"65.91789510120057\" stroke=\"darkgreen\" stroke-width=\"0.6400000000000001\" stroke-linecap=\"butt\" class=\"arrow\" /><polygon points=\"41.431083505599865,71.28445824720006 52.70086611219881,66.99120773040048 51.627553482998906,64.84458247200067\" fill=\"darkgreen\" class=\"arrow\" /><line x1=\"40.0\" y1=\"72.0\" x2=\"20.164209797598858\" y2=\"81.91789510120057\" stroke=\"darkgreen\" stroke-width=\"0.6400000000000001\" stroke-linecap=\"butt\" class=\"arrow\" /><polygon points=\"9.431083505599865,87.28445824720006 20.700866112198806,82.99120773040048 19.62755348299891,80.84458247200067\" fill=\"darkgreen\" class=\"arrow\" /><line x1=\"8.0\" y1=\"88.0\" x2=\"17.91789510120057\" y2=\"107.83579020240114\" stroke=\"darkgreen\" stroke-width=\"0.6400000000000001\" stroke-linecap=\"butt\" class=\"arrow\" /><polygon points=\"23.284458247200067,118.56891649440013 18.991207730400472,107.29913388780119 16.84458247200067,108.3724465170011\" fill=\"darkgreen\" class=\"arrow\" /><line x1=\"24.0\" y1=\"120.0\" x2=\"43.83579020240114\" y2=\"110.08210489879943\" stroke=\"darkgreen\" stroke-width=\"0.6400000000000001\" stroke-linecap=\"butt\" class=\"arrow\" /><polygon points=\"54.568916494400135,104.71554175279994 43.29913388780119,109.00879226959952 44.372446517001094,111.15541752799933\" fill=\"darkgreen\" class=\"arrow\" /><line x1=\"56.0\" y1=\"104.0\" x2=\"65.91789510120057\" y2=\"84.16420979759886\" stroke=\"darkgreen\" stroke-width=\"0.6400000000000001\" stroke-linecap=\"butt\" class=\"arrow\" /><polygon points=\"71.28445824720006,73.43108350559987 64.84458247200067,83.6275534829989 66.99120773040048,84.70086611219881\" fill=\"darkgreen\" class=\"arrow\" /><line x1=\"72.0\" y1=\"72.0\" x2=\"91.83579020240114\" y2=\"62.08210489879943\" stroke=\"darkgreen\" stroke-width=\"0.6400000000000001\" stroke-linecap=\"butt\" class=\"arrow\" /><polygon points=\"102.56891649440013,56.715541752799936 91.29913388780119,61.00879226959953 92.3724465170011,63.155417527999326\" fill=\"darkgreen\" class=\"arrow\" /><line x1=\"104.0\" y1=\"56.0\" x2=\"113.91789510120057\" y2=\"36.16420979759886\" stroke=\"darkgreen\" stroke-width=\"0.6400000000000001\" stroke-linecap=\"butt\" class=\"arrow\" /><polygon points=\"119.28445824720006,25.431083505599865 112.84458247200067,35.627553482998906 114.99120773040048,36.70086611219881\" fill=\"darkgreen\" class=\"arrow\" /><line x1=\"120.0\" y1=\"24.0\" x2=\"100.16420979759886\" y2=\"14.082104898799429\" stroke=\"darkgreen\" stroke-width=\"0.6400000000000001\" stroke-linecap=\"butt\" class=\"arrow\" /><polygon points=\"89.43108350559987,8.715541752799933 99.6275534829989,15.155417527999328 100.70086611219881,13.00879226959953\" fill=\"darkgreen\" class=\"arrow\" /><line x1=\"88.0\" y1=\"8.0\" x2=\"78.08210489879943\" y2=\"27.835790202401142\" stroke=\"darkgreen\" stroke-width=\"0.6400000000000001\" stroke-linecap=\"butt\" class=\"arrow\" /><polygon points=\"72.71554175279994,38.568916494400135 79.15541752799933,28.37244651700109 77.00879226959952,27.299133887801194\" fill=\"darkgreen\" class=\"arrow\" /><line x1=\"72.0\" y1=\"40.0\" x2=\"52.16420979759886\" y2=\"30.08210489879943\" stroke=\"darkgreen\" stroke-width=\"0.6400000000000001\" stroke-linecap=\"butt\" class=\"arrow\" /><polygon points=\"41.431083505599865,24.715541752799933 51.627553482998906,31.15541752799933 52.70086611219881,29.008792269599528\" fill=\"darkgreen\" class=\"arrow\" /><line x1=\"40.0\" y1=\"24.0\" x2=\"20.164209797598858\" y2=\"14.082104898799429\" stroke=\"darkgreen\" stroke-width=\"0.6400000000000001\" stroke-linecap=\"butt\" class=\"arrow\" /><polygon points=\"9.431083505599865,8.715541752799933 19.62755348299891,15.155417527999328 20.700866112198806,13.00879226959953\" fill=\"darkgreen\" class=\"arrow\" /></svg></div>"
      ],
      "text/plain": [
       "<chess_problem_visuals.board.Board at 0x7f84621e3bb0>"
      ]
     },
     "execution_count": 19,
     "metadata": {},
     "output_type": "execute_result"
    }
   ],
   "source": [
    "show_solution(create_board(Solution))"
   ]
  },
  {
   "cell_type": "code",
   "execution_count": null,
   "id": "0eb8d8aa",
   "metadata": {},
   "outputs": [],
   "source": []
  }
 ],
 "metadata": {
  "kernelspec": {
   "display_name": "Python 3 (ipykernel)",
   "language": "python",
   "name": "python3"
  },
  "language_info": {
   "codemirror_mode": {
    "name": "ipython",
    "version": 3
   },
   "file_extension": ".py",
   "mimetype": "text/x-python",
   "name": "python",
   "nbconvert_exporter": "python",
   "pygments_lexer": "ipython3",
   "version": "3.10.0"
  }
 },
 "nbformat": 4,
 "nbformat_minor": 5
}
