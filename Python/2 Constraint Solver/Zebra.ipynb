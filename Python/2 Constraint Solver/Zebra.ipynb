{
 "cells": [
  {
   "cell_type": "code",
   "execution_count": 1,
   "metadata": {},
   "outputs": [
    {
     "data": {
      "text/html": [
       "<link href='http://fonts.googleapis.com/css?family=Alegreya+Sans:100,300,400,500,700,800,900,100italic,300italic,400italic,500italic,700italic,800italic,900italic' rel='stylesheet' type='text/css'>\n",
       "<link href='http://fonts.googleapis.com/css?family=Arvo:400,700,400italic' rel='stylesheet' type='text/css'>\n",
       "<link href='http://fonts.googleapis.com/css?family=PT+Mono' rel='stylesheet' type='text/css'>\n",
       "<link href='http://fonts.googleapis.com/css?family=Shadows+Into+Light' rel='stylesheet' type='text/css'>\n",
       "<link href='http://fonts.googleapis.com/css?family=Philosopher:400,700,400italic,700italic' rel='stylesheet' type='text/css'>\n",
       "<link href=\"http://fonts.googleapis.com/css?family=Sacramento\" rel=\"stylesheet\" type=\"text/css\">\n",
       "\n",
       "<style>\n",
       "\n",
       "@font-face {\n",
       "    font-family: \"Computer Modern\";\n",
       "    src: url('http://mirrors.ctan.org/fonts/cm-unicode/fonts/otf/cmunss.otf');\n",
       "}\n",
       "\n",
       ".container { width: 100% }\n",
       "\n",
       "/* Formatting for header cells */\n",
       ".text_cell_render h1 {\n",
       "    font-family: 'Philosopher', sans-serif;\n",
       "    font-weight: 400;\n",
       "    font-size: 2.2em;\n",
       "    line-height: 100%;\n",
       "    color: rgb(0, 80, 120);\n",
       "    margin-bottom: 0.1em;\n",
       "    margin-top: 0.1em;\n",
       "    display: block;\n",
       "}\t\n",
       ".text_cell_render h2 {\n",
       "    font-family: 'Philosopher', serif;\n",
       "    font-weight: 400;\n",
       "    font-size: 1.9em;\n",
       "    line-height: 100%;\n",
       "    color: rgb(200,100,0);\n",
       "    margin-bottom: 0.1em;\n",
       "    margin-top: 0.1em;\n",
       "    display: block;\n",
       "}\t\n",
       "\n",
       ".text_cell_render h3 {\n",
       "    font-family: 'Philosopher', serif;\n",
       "    margin-top:12px;\n",
       "    margin-bottom: 3px;\n",
       "    font-style: italic;\n",
       "    color: rgb(94,127,192);\n",
       "}\n",
       "\n",
       ".text_cell_render h4 {\n",
       "    font-family: 'Philosopher', serif;\n",
       "}\n",
       "\n",
       ".text_cell_render h5 {\n",
       "    font-family: 'Alegreya Sans', sans-serif;\n",
       "    font-weight: 300;\n",
       "    font-size: 16pt;\n",
       "    color: grey;\n",
       "    font-style: italic;\n",
       "    margin-bottom: .1em;\n",
       "    margin-top: 0.1em;\n",
       "    display: block;\n",
       "}\n",
       "\n",
       ".text_cell_render h6 {\n",
       "    font-family: 'PT Mono', sans-serif;\n",
       "    font-weight: 300;\n",
       "    font-size: 10pt;\n",
       "    color: grey;\n",
       "    margin-bottom: 1px;\n",
       "    margin-top: 1px;\n",
       "}\n",
       "\n",
       ".text_cell_render em {\n",
       "    font-family: 'Philosopher', sans-serif;\n",
       "    color:        blue;\n",
       "    background-color: rgb(255,220,180);\n",
       "    font-size:    110%;\n",
       "    margin-left:   2px;\n",
       "    margin-right:  2px;\n",
       "    font-weight:   100;\n",
       "}\n",
       "\n",
       ".text_cell_render b {\n",
       "    color:            rgb(255,195,195);\n",
       "    background-color: rgb(0,0,0);\n",
       "    font-size:    110%;\n",
       "    margin-left:   2px;\n",
       "    margin-right:  2px;\n",
       "    font-weight:   650;\n",
       "}\n",
       "\n",
       ".text_cell_render u {\n",
       "    color:            blue;\n",
       "    font-size:    110%;\n",
       "    margin-left:   2px;\n",
       "    margin-right:  2px;\n",
       "    font-weight:   650;\n",
       "}\n",
       "\n",
       ".text_cell_render tt {\n",
       "    font-size:    120%;\n",
       "    margin-left:   2px;\n",
       "    margin-right:  2px;\n",
       "    font-weight:   150;\n",
       "}\n",
       "\n",
       ".Codemirror {\n",
       "    font-family: \"PT Mono\";\n",
       "    font-size: 100%;\n",
       "}\n",
       "\n",
       "#fancy {\n",
       "    font-family:      Georgia;\n",
       "    position:         relative;\n",
       "    float:            left;\n",
       "    border:           2px solid red;\n",
       "    width:            600px;\n",
       "    padding-left:     20px;\n",
       "    padding-right:    20px;\n",
       "    padding-top:      10px;\n",
       "    font-family:      'Sacramento', cursive;\n",
       "    font-size:        26px;\n",
       "    background-color: #F4EBF3;\n",
       "    border-radius:    15px;\n",
       "}\n",
       "\n",
       "</Style>\n",
       "\n"
      ],
      "text/plain": [
       "<IPython.core.display.HTML object>"
      ]
     },
     "execution_count": 1,
     "metadata": {},
     "output_type": "execute_result"
    }
   ],
   "source": [
    "from IPython.core.display import HTML\n",
    "with open('../style.css') as f:\n",
    "    css = f.read()\n",
    "HTML(css)"
   ]
  },
  {
   "cell_type": "markdown",
   "metadata": {},
   "source": [
    "# The Zebra Puzzle"
   ]
  },
  {
   "cell_type": "markdown",
   "metadata": {},
   "source": [
    "The following puzzle appeared in the magazine *Life International* on the 17th of December in the year 1962:\n",
    "<ol>\n",
    "    <li>There are five houses.</li>\n",
    "    <li>The Englishman lives in the red house.</li>\n",
    "    <li>The Spaniard owns the dog.</li>\n",
    "    <li>Coffee is drunk in the green house.</li>\n",
    "    <li>The Ukrainian drinks tea.</li>\n",
    "    <li>The green house is immediately to the right of the ivory house.</li>\n",
    "    <li>The Old Gold smoker owns snails.</li>\n",
    "    <li>Kools are smoked in the yellow house.</li>\n",
    "    <li>Milk is drunk in the middle house.</li>\n",
    "    <li>The Norwegian lives in the first house.</li>\n",
    "    <li>The man who smokes Chesterfields lives in the house next to the man with the fox.</li>\n",
    "    <li>Kools are smoked in the house next to the house where the horse is kept.</li>\n",
    "    <li>The Lucky Strike smoker drinks orange juice.</li>\n",
    "    <li>The Japanese smokes Parliaments.</li>\n",
    "    <li>The Norwegian lives next to the blue house.</li>\n",
    "</ol>\n",
    "Furthermore, each of the five houses is painted in a different colour, their inhabitants are of different nationalities, own different pets, drink different beverages, and smoke different brands of cigarettes.\n",
    "\n",
    "The objective of the zebra puzzle is to answers the following questions: \n",
    "<ul>\n",
    "    <li><b>Who drinks water?</b></li>\n",
    "    <li><b>Who owns the zebra?</b></li>\n",
    "</ul>\n",
    "In the following, we formulate the zebra puzzle as a <em style=\"color:blue\">constraint satisfaction problem</em>.\n",
    "\n",
    "In order to succinctly express the constraints that all houses have different colours, the inhabitants have different nationalities etc., it is convenient to implement a function $\\texttt{allDifferent}(V)$ that takes a set of variables $V$ and returns a set of formulas that is true if and only if all the variables from $V$ have different values."
   ]
  },
  {
   "cell_type": "code",
   "execution_count": 5,
   "metadata": {},
   "outputs": [],
   "source": [
    "def allDifferent(Variables):\n",
    "    return { f'{x} != {y}' for x in Variables\n",
    "                           for y in Variables \n",
    "                           if x < y \n",
    "           }"
   ]
  },
  {
   "cell_type": "code",
   "execution_count": 3,
   "metadata": {},
   "outputs": [
    {
     "data": {
      "text/plain": [
       "{'English != Japanese', 'English != Spanish', 'Japanese != Spanish'}"
      ]
     },
     "execution_count": 3,
     "metadata": {},
     "output_type": "execute_result"
    }
   ],
   "source": [
    "allDifferent({\"English\", \"Spanish\", \"Japanese\"})"
   ]
  },
  {
   "cell_type": "markdown",
   "metadata": {},
   "source": [
    "The following global variables are convenient to code the puzzle.\n",
    "I have to use functions here for otherwise `nbimport` would not work."
   ]
  },
  {
   "cell_type": "code",
   "execution_count": 2,
   "metadata": {},
   "outputs": [],
   "source": [
    "def Nations(): return { \"English\", \"Spanish\", \"Ukrainian\", \"Norwegian\", \"Japanese\" }\n",
    "def Drinks():  return { \"Coffee\" , \"Tea\", \"Milk\", \"OrangeJuice\", \"Water\" }\n",
    "def Pets():    return { \"Dog\", \"Snails\", \"Horse\", \"Fox\", \"Zebra\" }\n",
    "def Brands():  return { \"LuckyStrike\", \"Parliaments\", \"Kools\", \"Chesterfields\", \"OldGold\" }\n",
    "def Colours(): return { \"Red\", \"Green\", \"Ivory\", \"Yellow\", \"Blue\" }"
   ]
  },
  {
   "cell_type": "markdown",
   "metadata": {},
   "source": [
    "The function $\\texttt{zebraCSP}()$ returns a CSP that codes the zebra problem."
   ]
  },
  {
   "cell_type": "code",
   "execution_count": 3,
   "metadata": {},
   "outputs": [],
   "source": [
    "def zebra_csp(): \n",
    "    Variables = Nations() | Drinks() | Pets() | Brands() | Colours()\n",
    "    Values    = { 1, 2, 3, 4, 5 }\n",
    "    Constraints = { \"English       == Red\",          # The Englishman lives in the red house.\n",
    "                    \"Spanish       == Dog\",          # The Spaniard owns the dog.\n",
    "                    \"Coffee        == Green\",        # Coffee is drunk in the green house.\n",
    "                    \"Ukrainian     == Tea\",          # The Ukrainian drinks tea.\n",
    "                    \"Green         == Ivory + 1\",    # The green house is immediately to the \n",
    "                                                     # right of the ivory house.\n",
    "                    \"OldGold       == Snails\",       # The Old Gold smoker owns snails.\n",
    "                    \"Kools         == Yellow\",       # Kools are smoked in the yellow house.\n",
    "                    \"Milk          == 3\",            # Milk is drunk in the middle house.\n",
    "                    \"Norwegian     == 1\",            # The Norwegian lives in the first house.\n",
    "                    \"abs(Chesterfields - Fox) == 1\", # The man who smokes Chesterfields lives \n",
    "                                                     # in the house next to the man with the fox.\n",
    "                    \"abs(Kools - Horse) == 1\",       # Kools are smoked in the house next to the house where the horse is kept.\n",
    "                    \"LuckyStrike   == OrangeJuice\",  # The Lucky Strike smoker drinks orange juice.\n",
    "                    \"Japanese      == Parliaments\",  # The Japanese smokes Parliaments.\n",
    "                    \"abs(Norwegian - Blue) == 1\"     # The Norwegian lives next to the blue house.\n",
    "                  }\n",
    "    Constraints |= allDifferent(Nations())\n",
    "    Constraints |= allDifferent(Drinks())\n",
    "    Constraints |= allDifferent(Pets())\n",
    "    Constraints |= allDifferent(Brands())\n",
    "    Constraints |= allDifferent(Colours())\n",
    "    return (Variables, Values, Constraints)"
   ]
  },
  {
   "cell_type": "code",
   "execution_count": 6,
   "metadata": {},
   "outputs": [
    {
     "data": {
      "text/plain": [
       "({'Blue',\n",
       "  'Chesterfields',\n",
       "  'Coffee',\n",
       "  'Dog',\n",
       "  'English',\n",
       "  'Fox',\n",
       "  'Green',\n",
       "  'Horse',\n",
       "  'Ivory',\n",
       "  'Japanese',\n",
       "  'Kools',\n",
       "  'LuckyStrike',\n",
       "  'Milk',\n",
       "  'Norwegian',\n",
       "  'OldGold',\n",
       "  'OrangeJuice',\n",
       "  'Parliaments',\n",
       "  'Red',\n",
       "  'Snails',\n",
       "  'Spanish',\n",
       "  'Tea',\n",
       "  'Ukrainian',\n",
       "  'Water',\n",
       "  'Yellow',\n",
       "  'Zebra'},\n",
       " {1, 2, 3, 4, 5},\n",
       " {'Blue != Green',\n",
       "  'Blue != Ivory',\n",
       "  'Blue != Red',\n",
       "  'Blue != Yellow',\n",
       "  'Chesterfields != Kools',\n",
       "  'Chesterfields != LuckyStrike',\n",
       "  'Chesterfields != OldGold',\n",
       "  'Chesterfields != Parliaments',\n",
       "  'Coffee        == Green',\n",
       "  'Coffee != Milk',\n",
       "  'Coffee != OrangeJuice',\n",
       "  'Coffee != Tea',\n",
       "  'Coffee != Water',\n",
       "  'Dog != Fox',\n",
       "  'Dog != Horse',\n",
       "  'Dog != Snails',\n",
       "  'Dog != Zebra',\n",
       "  'English       == Red',\n",
       "  'English != Japanese',\n",
       "  'English != Norwegian',\n",
       "  'English != Spanish',\n",
       "  'English != Ukrainian',\n",
       "  'Fox != Horse',\n",
       "  'Fox != Snails',\n",
       "  'Fox != Zebra',\n",
       "  'Green         == Ivory + 1',\n",
       "  'Green != Ivory',\n",
       "  'Green != Red',\n",
       "  'Green != Yellow',\n",
       "  'Horse != Snails',\n",
       "  'Horse != Zebra',\n",
       "  'Ivory != Red',\n",
       "  'Ivory != Yellow',\n",
       "  'Japanese      == Parliaments',\n",
       "  'Japanese != Norwegian',\n",
       "  'Japanese != Spanish',\n",
       "  'Japanese != Ukrainian',\n",
       "  'Kools         == Yellow',\n",
       "  'Kools != LuckyStrike',\n",
       "  'Kools != OldGold',\n",
       "  'Kools != Parliaments',\n",
       "  'LuckyStrike   == OrangeJuice',\n",
       "  'LuckyStrike != OldGold',\n",
       "  'LuckyStrike != Parliaments',\n",
       "  'Milk          == 3',\n",
       "  'Milk != OrangeJuice',\n",
       "  'Milk != Tea',\n",
       "  'Milk != Water',\n",
       "  'Norwegian     == 1',\n",
       "  'Norwegian != Spanish',\n",
       "  'Norwegian != Ukrainian',\n",
       "  'OldGold       == Snails',\n",
       "  'OldGold != Parliaments',\n",
       "  'OrangeJuice != Tea',\n",
       "  'OrangeJuice != Water',\n",
       "  'Red != Yellow',\n",
       "  'Snails != Zebra',\n",
       "  'Spanish       == Dog',\n",
       "  'Spanish != Ukrainian',\n",
       "  'Tea != Water',\n",
       "  'Ukrainian     == Tea',\n",
       "  'abs(Chesterfields - Fox) == 1',\n",
       "  'abs(Kools - Horse) == 1',\n",
       "  'abs(Norwegian - Blue) == 1'})"
      ]
     },
     "execution_count": 6,
     "metadata": {},
     "output_type": "execute_result"
    }
   ],
   "source": [
    "zebra = zebra_csp()\n",
    "zebra"
   ]
  },
  {
   "cell_type": "code",
   "execution_count": null,
   "metadata": {},
   "outputs": [],
   "source": [
    "from IPython.display import HTML"
   ]
  },
  {
   "cell_type": "code",
   "execution_count": null,
   "metadata": {},
   "outputs": [],
   "source": [
    "def show_solution(Solution):\n",
    "    result  = '<table style=\"border:2px solid blue\">\\n'\n",
    "    result += '<tr>'\n",
    "    for name in ['House', 'Nationality',  'Drink', 'Animal', 'Brand', 'Colour']:\n",
    "        result += '<th style=\"color:gold; background-color:blue\">' + name + '</th>'\n",
    "    result += '</tr>\\n'\n",
    "    for chair in range(1, 5+1):\n",
    "        result += '<tr><td style=\"border:1px solid green\">' + str(chair) + '</td>'\n",
    "        for Class in [Nations(), Drinks(), Pets(), Brands(), Colours()]:\n",
    "            for x in Class:\n",
    "                if Solution[x] == chair:\n",
    "                    result += '<td  style=\"border:1px solid green\">' + x + '</td>'\n",
    "        result += '</tr>\\n'\n",
    "    result += '</table>'\n",
    "    display(HTML(result))"
   ]
  },
  {
   "cell_type": "code",
   "execution_count": null,
   "metadata": {},
   "outputs": [],
   "source": [
    "5 ** 25"
   ]
  },
  {
   "cell_type": "code",
   "execution_count": null,
   "metadata": {},
   "outputs": [],
   "source": []
  }
 ],
 "metadata": {
  "kernelspec": {
   "display_name": "Python 3 (ipykernel)",
   "language": "python",
   "name": "python3"
  },
  "language_info": {
   "codemirror_mode": {
    "name": "ipython",
    "version": 3
   },
   "file_extension": ".py",
   "mimetype": "text/x-python",
   "name": "python",
   "nbconvert_exporter": "python",
   "pygments_lexer": "ipython3",
   "version": "3.10.9"
  },
  "toc": {
   "base_numbering": 1,
   "nav_menu": {},
   "number_sections": true,
   "sideBar": true,
   "skip_h1_title": false,
   "title_cell": "Table of Contents",
   "title_sidebar": "Contents",
   "toc_cell": false,
   "toc_position": {},
   "toc_section_display": true,
   "toc_window_display": false
  },
  "varInspector": {
   "cols": {
    "lenName": 16,
    "lenType": 16,
    "lenVar": 40
   },
   "kernels_config": {
    "python": {
     "delete_cmd_postfix": "",
     "delete_cmd_prefix": "del ",
     "library": "var_list.py",
     "varRefreshCmd": "print(var_dic_list())"
    },
    "r": {
     "delete_cmd_postfix": ") ",
     "delete_cmd_prefix": "rm(",
     "library": "var_list.r",
     "varRefreshCmd": "cat(var_dic_list()) "
    }
   },
   "types_to_exclude": [
    "module",
    "function",
    "builtin_function_or_method",
    "instance",
    "_Feature"
   ],
   "window_display": false
  }
 },
 "nbformat": 4,
 "nbformat_minor": 2
}
