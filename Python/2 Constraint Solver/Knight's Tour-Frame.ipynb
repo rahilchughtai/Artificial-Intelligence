{
 "cells": [
  {
   "cell_type": "code",
   "execution_count": 1,
   "id": "92d1a960",
   "metadata": {},
   "outputs": [
    {
     "data": {
      "text/html": [
       "<link href='http://fonts.googleapis.com/css?family=Alegreya+Sans:100,300,400,500,700,800,900,100italic,300italic,400italic,500italic,700italic,800italic,900italic' rel='stylesheet' type='text/css'>\n",
       "<link href='http://fonts.googleapis.com/css?family=Arvo:400,700,400italic' rel='stylesheet' type='text/css'>\n",
       "<link href='http://fonts.googleapis.com/css?family=PT+Mono' rel='stylesheet' type='text/css'>\n",
       "<link href='http://fonts.googleapis.com/css?family=Shadows+Into+Light' rel='stylesheet' type='text/css'>\n",
       "<link href='http://fonts.googleapis.com/css?family=Philosopher:400,700,400italic,700italic' rel='stylesheet' type='text/css'>\n",
       "<link href=\"http://fonts.googleapis.com/css?family=Sacramento\" rel=\"stylesheet\" type=\"text/css\">\n",
       "\n",
       "<style>\n",
       "\n",
       "@font-face {\n",
       "    font-family: \"Computer Modern\";\n",
       "    src: url('http://mirrors.ctan.org/fonts/cm-unicode/fonts/otf/cmunss.otf');\n",
       "}\n",
       "\n",
       ".container { width: 100% }\n",
       "\n",
       "/* Formatting for header cells */\n",
       ".text_cell_render h1 {\n",
       "    font-family: 'Philosopher', sans-serif;\n",
       "    font-weight: 400;\n",
       "    font-size: 2.2em;\n",
       "    line-height: 100%;\n",
       "    color: rgb(0, 80, 120);\n",
       "    margin-bottom: 0.1em;\n",
       "    margin-top: 0.1em;\n",
       "    display: block;\n",
       "}\t\n",
       ".text_cell_render h2 {\n",
       "    font-family: 'Philosopher', serif;\n",
       "    font-weight: 400;\n",
       "    font-size: 1.9em;\n",
       "    line-height: 100%;\n",
       "    color: rgb(200,100,0);\n",
       "    margin-bottom: 0.1em;\n",
       "    margin-top: 0.1em;\n",
       "    display: block;\n",
       "}\t\n",
       "\n",
       ".text_cell_render h3 {\n",
       "    font-family: 'Philosopher', serif;\n",
       "    margin-top:12px;\n",
       "    margin-bottom: 3px;\n",
       "    font-style: italic;\n",
       "    color: rgb(94,127,192);\n",
       "}\n",
       "\n",
       ".text_cell_render h4 {\n",
       "    font-family: 'Philosopher', serif;\n",
       "}\n",
       "\n",
       ".text_cell_render h5 {\n",
       "    font-family: 'Alegreya Sans', sans-serif;\n",
       "    font-weight: 300;\n",
       "    font-size: 16pt;\n",
       "    color: grey;\n",
       "    font-style: italic;\n",
       "    margin-bottom: .1em;\n",
       "    margin-top: 0.1em;\n",
       "    display: block;\n",
       "}\n",
       "\n",
       ".text_cell_render h6 {\n",
       "    font-family: 'PT Mono', sans-serif;\n",
       "    font-weight: 300;\n",
       "    font-size: 10pt;\n",
       "    color: grey;\n",
       "    margin-bottom: 1px;\n",
       "    margin-top: 1px;\n",
       "}\n",
       "\n",
       ".text_cell_render em {\n",
       "    font-family: 'Philosopher', sans-serif;\n",
       "    color:        blue;\n",
       "    background-color: rgb(255,220,180);\n",
       "    font-size:    110%;\n",
       "    margin-left:   2px;\n",
       "    margin-right:  2px;\n",
       "    font-weight:   100;\n",
       "}\n",
       "\n",
       ".text_cell_render b {\n",
       "    color:            rgb(255,195,195);\n",
       "    background-color: rgb(0,0,0);\n",
       "    font-size:    110%;\n",
       "    margin-left:   2px;\n",
       "    margin-right:  2px;\n",
       "    font-weight:   650;\n",
       "}\n",
       "\n",
       ".text_cell_render u {\n",
       "    color:            blue;\n",
       "    font-size:    110%;\n",
       "    margin-left:   2px;\n",
       "    margin-right:  2px;\n",
       "    font-weight:   650;\n",
       "}\n",
       "\n",
       ".text_cell_render tt {\n",
       "    font-size:    120%;\n",
       "    margin-left:   2px;\n",
       "    margin-right:  2px;\n",
       "    font-weight:   150;\n",
       "}\n",
       "\n",
       ".Codemirror {\n",
       "    font-family: \"PT Mono\";\n",
       "    font-size: 100%;\n",
       "}\n",
       "\n",
       "#fancy {\n",
       "    font-family:      Georgia;\n",
       "    position:         relative;\n",
       "    float:            left;\n",
       "    border:           2px solid red;\n",
       "    width:            600px;\n",
       "    padding-left:     20px;\n",
       "    padding-right:    20px;\n",
       "    padding-top:      10px;\n",
       "    font-family:      'Sacramento', cursive;\n",
       "    font-size:        26px;\n",
       "    background-color: #F4EBF3;\n",
       "    border-radius:    15px;\n",
       "}\n",
       "\n",
       "</Style>\n",
       "\n"
      ],
      "text/plain": [
       "<IPython.core.display.HTML object>"
      ]
     },
     "execution_count": 1,
     "metadata": {},
     "output_type": "execute_result"
    }
   ],
   "source": [
    "from IPython.core.display import HTML\n",
    "with open('../style.css') as f:\n",
    "    css = f.read()\n",
    "HTML(css)"
   ]
  },
  {
   "cell_type": "markdown",
   "id": "40393be4",
   "metadata": {},
   "source": [
    "# The Knight's Tour\n",
    "\n",
    "This notebook computes a solution to the [knight's tour](https://en.wikipedia.org/wiki/Knight%27s_tour) via backtracking.  "
   ]
  },
  {
   "cell_type": "markdown",
   "id": "70c6bb79",
   "metadata": {},
   "source": [
    "The function `generate_moves` returns a list of pairs representing all possible moves of a knight on a chess board.\n",
    "Each move is represented as a pair `(row_increment, col_increment)`.  If the knight is at the position `(row, col)` before the move, then its position after the move is `(row + row_increment, col + col_increment)`. "
   ]
  },
  {
   "cell_type": "code",
   "execution_count": null,
   "id": "192e1f42",
   "metadata": {},
   "outputs": [],
   "source": [
    "def generate_moves():\n",
    "    Range = [-2, -1, 1, 2]\n",
    "    return [(row, col) for row in Range \n",
    "                       for col in Range\n",
    "                       if abs(row) != abs(col)\n",
    "           ]"
   ]
  },
  {
   "cell_type": "code",
   "execution_count": null,
   "id": "0775e20d",
   "metadata": {},
   "outputs": [],
   "source": [
    "generate_moves()"
   ]
  },
  {
   "cell_type": "markdown",
   "id": "1074c1cc",
   "metadata": {},
   "source": [
    "The function `knights_tour` computes a sequence of moves of a knight on a chess board that starts in `(row, col)` and moves successively to all squares of the board.  \n",
    "- `row` and `col` specify the current position of the knight. These are numbers from the set $\\{0,\\cdots,n-1\\}$ where $n$ is the size of the board.\n",
    "- `k` is the number of squares that have already been visited.  Initially,\n",
    "  we have `k == 1`.  The variable `k` is incremented on every recursive\n",
    "  invocation of the function `knights_tour`.\n",
    "- `Board` is a list of lists representing the moves on the chess board.  We have that\n",
    "  `Board[row][col] = k` if the knight visits the position `(row, col)` in step `k`.\n",
    "- `Moves` is the list of moves a knight can take.  The contend of this variable is created by the function `generate_moves`.\n",
    "- `n` is the size of the board."
   ]
  },
  {
   "cell_type": "code",
   "execution_count": null,
   "id": "9d7cf10d",
   "metadata": {},
   "outputs": [],
   "source": [
    "def knights_tour(row, col, k, Board, Moves, n):\n",
    "    \"your code here\""
   ]
  },
  {
   "cell_type": "markdown",
   "id": "e5ecda56",
   "metadata": {},
   "source": [
    "The method `solve(start_row, start_col, n)` tries to compute a *knight's tour* for a board of size $n \\times n$.\n",
    "`(start_row, start_col)` is the start position of the knight."
   ]
  },
  {
   "cell_type": "code",
   "execution_count": null,
   "id": "f2a41355",
   "metadata": {},
   "outputs": [],
   "source": [
    "def solve(start_row, start_col, n):\n",
    "    # generate empty board\n",
    "    Board = [[0 for col in range(0, n)] for row in range(0, n)] \n",
    "    # place the knight on its start position\n",
    "    Board[start_row][start_col] = 1\n",
    "    Moves = generate_moves()\n",
    "    if knights_tour(start_row, start_col, 1, Board, Moves, n):\n",
    "        return Board\n",
    "    else:\n",
    "        return None"
   ]
  },
  {
   "cell_type": "markdown",
   "id": "53f04fd4",
   "metadata": {},
   "source": [
    "If the knight starts at the left topmost corner od a chessboard, that is at the position `(0, 0)`, a tour can be found in about 27 seconds on my *Apple Studio* computer."
   ]
  },
  {
   "cell_type": "code",
   "execution_count": null,
   "id": "ed214986",
   "metadata": {},
   "outputs": [],
   "source": [
    "%%time\n",
    "Board = solve(0, 0, 6)\n",
    "Board"
   ]
  },
  {
   "cell_type": "markdown",
   "id": "c08111d0",
   "metadata": {},
   "source": [
    "The function `print_board(Board)` prints the given `Board`."
   ]
  },
  {
   "cell_type": "code",
   "execution_count": null,
   "id": "beb0c8f3",
   "metadata": {},
   "outputs": [],
   "source": [
    "def print_board(Board):\n",
    "    n = len(Board)\n",
    "    # Determine the width of the widest element in the matrix\n",
    "    width = max([ len(str(element)) for row in Board\n",
    "                                    for element in row\n",
    "                ])\n",
    "    # Create the top and bottom of the matrix\n",
    "    top_line = '╔'\n",
    "    for i in range(n - 1):\n",
    "        top_line += '═' * (width + 2) + '╦'\n",
    "    top_line += '═' * (width + 2) + '╗'\n",
    "    mid_line = '╠'\n",
    "    for i in range(n - 1):\n",
    "        mid_line += '═' * (width + 2) + '╬'\n",
    "    mid_line += '═' * (width + 2) + '╣'    \n",
    "    bot_line = '╚'\n",
    "    for i in range(n - 1):\n",
    "        bot_line += '═' * (width + 2) + '╩'\n",
    "    bot_line += '═' * (width + 2) + '╝'\n",
    "    # Print the top of the matrix\n",
    "    print(top_line)\n",
    "    # Iterate through the rows and columns of the matrix, and print\n",
    "    # each element with proper padding\n",
    "    for i, row in enumerate(Board):\n",
    "        line = '\\u2551'\n",
    "        for element in row:\n",
    "            line += f' {element:>{width}} ║'\n",
    "        print(line)\n",
    "        # Print a horizontal line\n",
    "        if i < len(Board) - 1:\n",
    "            print(mid_line)\n",
    "    # Print the bottom of the matrix\n",
    "    print(bot_line)"
   ]
  },
  {
   "cell_type": "code",
   "execution_count": null,
   "id": "84285963",
   "metadata": {
    "scrolled": false
   },
   "outputs": [],
   "source": [
    "print_board(Board)"
   ]
  },
  {
   "cell_type": "markdown",
   "id": "c368894c",
   "metadata": {},
   "source": [
    "# Visualization"
   ]
  },
  {
   "cell_type": "markdown",
   "id": "178775e6",
   "metadata": {},
   "source": [
    "If you have not yet installed `chess-problem-visuals` you have to uncomment the following line."
   ]
  },
  {
   "cell_type": "code",
   "execution_count": null,
   "id": "66ade675",
   "metadata": {},
   "outputs": [],
   "source": [
    "!pip install git+https://github.com/reclinarka/chess-problem-visuals"
   ]
  },
  {
   "cell_type": "code",
   "execution_count": null,
   "id": "5fefb330",
   "metadata": {},
   "outputs": [],
   "source": [
    "from chess_problem_visuals import problem_board"
   ]
  },
  {
   "cell_type": "markdown",
   "id": "5cf0a8fc",
   "metadata": {},
   "source": [
    "The function `show_solution` displays the given solution on a chessboard.\n",
    "The solution `Board` is represented as a list of lists.  We have `Board[row][col] == k` if the $k^\\textrm{th}$ move leads the knight to the position `(row, col)`."
   ]
  },
  {
   "cell_type": "code",
   "execution_count": null,
   "id": "b03f7ab7",
   "metadata": {
    "scrolled": false
   },
   "outputs": [],
   "source": [
    "def show_solution(Board, width=\"50%\"):\n",
    "    n         = len(Board)\n",
    "    Positions = {}\n",
    "    for row in range(n):\n",
    "        for col in range(n):\n",
    "            k = Board[col][row]\n",
    "            Positions[k] = (row, col)\n",
    "    Path = []\n",
    "    for k in range(1, n*n+1):\n",
    "        Path.append(Positions[k])\n",
    "    Visual = problem_board(n, K_start=Positions[1], K_path=Path, \n",
    "                           html_width=width, \n",
    "                           arrow_color=\"blue\", \n",
    "                           arrow_width=0.1)\n",
    "    return Visual"
   ]
  },
  {
   "cell_type": "code",
   "execution_count": null,
   "id": "62d57b5b",
   "metadata": {},
   "outputs": [],
   "source": [
    "show_solution(Board)"
   ]
  },
  {
   "cell_type": "code",
   "execution_count": null,
   "id": "dfaee763",
   "metadata": {},
   "outputs": [],
   "source": []
  }
 ],
 "metadata": {
  "kernelspec": {
   "display_name": "Python 3 (ipykernel)",
   "language": "python",
   "name": "python3"
  },
  "language_info": {
   "codemirror_mode": {
    "name": "ipython",
    "version": 3
   },
   "file_extension": ".py",
   "mimetype": "text/x-python",
   "name": "python",
   "nbconvert_exporter": "python",
   "pygments_lexer": "ipython3",
   "version": "3.10.4"
  }
 },
 "nbformat": 4,
 "nbformat_minor": 5
}
