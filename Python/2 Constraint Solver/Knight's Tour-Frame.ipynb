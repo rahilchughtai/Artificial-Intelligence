{
 "cells": [
  {
   "cell_type": "code",
   "execution_count": null,
   "id": "92d1a960",
   "metadata": {},
   "outputs": [],
   "source": [
    "from IPython.core.display import HTML\n",
    "with open('../style.css') as f:\n",
    "    css = f.read()\n",
    "HTML(css)"
   ]
  },
  {
   "cell_type": "markdown",
   "id": "40393be4",
   "metadata": {},
   "source": [
    "# The Knight's Tour\n",
    "\n",
    "This notebook computes a solution to the [knight's tour](https://en.wikipedia.org/wiki/Knight%27s_tour) via *backtracking*, i.e. it computes a sequence of 63 knight moves that start in a corner of the chess board and visit every square of the chess board exactly once."
   ]
  },
  {
   "cell_type": "markdown",
   "id": "70c6bb79",
   "metadata": {},
   "source": [
    "The function `generate_moves` returns a list of pairs representing all possible moves of a knight on a chess board.\n",
    "Each move is represented as a pair `(row_increment, col_increment)`.  If the knight is at the position `(row, col)` before the move, then its position after the move is `(row + row_increment, col + col_increment)`. "
   ]
  },
  {
   "cell_type": "code",
   "execution_count": null,
   "id": "192e1f42",
   "metadata": {},
   "outputs": [],
   "source": [
    "def generate_moves():\n",
    "    Range = [-2, -1, 1, 2]\n",
    "    return [(row, col) for row in Range \n",
    "                       for col in Range\n",
    "                       if abs(row) != abs(col)\n",
    "           ]"
   ]
  },
  {
   "cell_type": "code",
   "execution_count": null,
   "id": "0775e20d",
   "metadata": {},
   "outputs": [],
   "source": [
    "generate_moves()"
   ]
  },
  {
   "cell_type": "markdown",
   "id": "1074c1cc",
   "metadata": {},
   "source": [
    "The function `knights_tour` computes a sequence of moves of a knight on a chess board that starts in `Position` and moves successively to all squares of the board.  \n",
    "- `row` and `col` specify the current position of the knight. These are numbers from the set $\\{0,\\cdots,7\\}$.\n",
    "- `k` is the number of squares that have already been visited.\n",
    "- `Board` is a list of lists representing the moves on the chess board.  We have that\n",
    "  `Board[row][col] = k` if the knight visits the position `(row, col)` in step `k`.\n",
    "  If `Board[row][col] == 0`, then the position specified by `(row, col)` hasn't been visited yet.\n",
    "- `Moves` is a list of pairs representing the differents moves of the knight. \n",
    "   We have:\n",
    "   \n",
    "   `Moves = [(-2, -1), (-2, 1), (-1, -2), (-1, 2), (1, -2), (1, 2), (2, -1), (2, 1)]`\n",
    "- `n` is the size of the board."
   ]
  },
  {
   "cell_type": "code",
   "execution_count": null,
   "id": "9d7cf10d",
   "metadata": {},
   "outputs": [],
   "source": [
    "def knights_tour(row, col, k, Board, Moves, n):\n",
    "    \"\"\"\n",
    "    This function should perform a recursive depth search to compute the solution.\n",
    "    When going from k to k+1, try every square on the Board that is still empty.\n",
    "    \"\"\""
   ]
  },
  {
   "cell_type": "markdown",
   "id": "e5ecda56",
   "metadata": {},
   "source": [
    "The method `solve(start_row, start_col, n)` tries to compute a *knight's tour* for a board of size $n \\times n$.\n",
    "  - `(start_row, start_col)` is the start position of the knight.\n",
    "  - `n` is the size of the board."
   ]
  },
  {
   "cell_type": "code",
   "execution_count": null,
   "id": "f2a41355",
   "metadata": {},
   "outputs": [],
   "source": [
    "def solve(start_row, start_col, n):\n",
    "    Moves = generate_moves()\n",
    "    # generate empty board\n",
    "    Board = [[0 for col in range(0, n)] for row in range(0, n)] \n",
    "    # place the knight on its start position\n",
    "    Board[start_row][start_col] = 1\n",
    "    if knights_tour(start_row, start_col, 1, Board, Moves, n):\n",
    "        return Board\n",
    "    else:\n",
    "        return None"
   ]
  },
  {
   "cell_type": "markdown",
   "id": "53f04fd4",
   "metadata": {},
   "source": [
    "If the knight starts at the left topmost corner, that is at the position `(0, 0)`, a tour can be found in about 27 seconds on my *Apple Studio* computer."
   ]
  },
  {
   "cell_type": "code",
   "execution_count": null,
   "id": "ed214986",
   "metadata": {},
   "outputs": [],
   "source": [
    "%%time\n",
    "Board = solve(0, 0, 8)\n",
    "Board"
   ]
  },
  {
   "cell_type": "markdown",
   "id": "c08111d0",
   "metadata": {},
   "source": [
    "The function `print_board(Board)` prints the given `Board`."
   ]
  },
  {
   "cell_type": "code",
   "execution_count": null,
   "id": "beb0c8f3",
   "metadata": {},
   "outputs": [],
   "source": [
    "def print_board(Board):\n",
    "    n = len(Board)\n",
    "    # Determine the width of the widest element in the matrix\n",
    "    width = max([ len(str(element)) for row in Board\n",
    "                                    for element in row\n",
    "                ])\n",
    "    # Create the top and bottom of the matrix\n",
    "    top_line = '╔'\n",
    "    for i in range(n - 1):\n",
    "        top_line += '=' * (width + 2) + '╦'\n",
    "    top_line += '=' * (width + 2) + '╗'\n",
    "    mid_line = '╠'\n",
    "    for i in range(n - 1):\n",
    "        mid_line += '=' * (width + 2) + '╬'\n",
    "    mid_line += '=' * (width + 2) + '╣'    \n",
    "    bot_line = '╚'\n",
    "    for i in range(n - 1):\n",
    "        bot_line += '=' * (width + 2) + '╩'\n",
    "    bot_line += '=' * (width + 2) + '╝'\n",
    "    # Print the top of the matrix\n",
    "    print(top_line)\n",
    "    # Iterate through the rows and columns of the matrix, and print\n",
    "    # each element with proper padding\n",
    "    for i, row in enumerate(Board):\n",
    "        line = '\\u2551'\n",
    "        for element in row:\n",
    "            line += f' {element:>{width}} ║'\n",
    "        print(line)\n",
    "        # Print a horizontal line\n",
    "        if i < len(Board) - 1:\n",
    "            print(mid_line)\n",
    "    # Print the bottom of the matrix\n",
    "    print(bot_line)"
   ]
  },
  {
   "cell_type": "code",
   "execution_count": null,
   "id": "84285963",
   "metadata": {
    "scrolled": false
   },
   "outputs": [],
   "source": [
    "print_board(Board)"
   ]
  },
  {
   "cell_type": "markdown",
   "id": "5045478e",
   "metadata": {},
   "source": [
    "# Visualization"
   ]
  },
  {
   "cell_type": "code",
   "execution_count": null,
   "id": "ba460dbf",
   "metadata": {},
   "outputs": [],
   "source": [
    "import chess"
   ]
  },
  {
   "cell_type": "code",
   "execution_count": null,
   "id": "ecd4d897",
   "metadata": {},
   "outputs": [],
   "source": [
    "def to_algebraic(row, col):\n",
    "    Columns = { 0: 'a', 1: 'b', 2: 'c', 3: 'd', 4: 'e', 5: 'f', 6: 'g', 7: 'h' }\n",
    "    return Columns[col] + str(row+1)"
   ]
  },
  {
   "cell_type": "code",
   "execution_count": null,
   "id": "5649564f",
   "metadata": {},
   "outputs": [],
   "source": [
    "def create_board(Solution):\n",
    "    Board = [[0 for _ in range(8)] for _ in range(8)]\n",
    "    for i in range(1, 65):\n",
    "        r = Solution[row(i)].as_long()\n",
    "        c = Solution[col(i)].as_long()\n",
    "        Board[r][c] = i\n",
    "    return Board"
   ]
  },
  {
   "cell_type": "code",
   "execution_count": null,
   "id": "9ab5a44f",
   "metadata": {},
   "outputs": [],
   "source": [
    "def show_solution(Solution):\n",
    "    board  = chess.Board(None)  # create empty chess board\n",
    "    knight = chess.Piece(chess.KNIGHT, True )\n",
    "    pawn   = chess.Piece(chess.PAWN  , False)\n",
    "    board.set_piece_at(0, knight)\n",
    "    for row in range(0, 8):\n",
    "        for col in range(0, 8):\n",
    "            field_number = row * 8 + col\n",
    "            if field_number != 0:\n",
    "                board.set_piece_at(field_number, pawn)\n",
    "    display(board)\n",
    "    Positions = {}\n",
    "    for row in range(0, 8):\n",
    "        for col in range(0, 8):\n",
    "            k = Solution[row][col]\n",
    "            Positions[k] = to_algebraic(row, col)\n",
    "    move = chess.Move.from_uci('a1c2')\n",
    "    source = Positions[1]\n",
    "    for i in range(2, 65):\n",
    "        destination = Positions[i]\n",
    "        move = chess.Move.from_uci(source + destination)\n",
    "        board.push(move)\n",
    "        display(board)\n",
    "        source = destination"
   ]
  },
  {
   "cell_type": "code",
   "execution_count": null,
   "id": "9da70622",
   "metadata": {
    "scrolled": false
   },
   "outputs": [],
   "source": [
    "show_solution(Board)"
   ]
  },
  {
   "cell_type": "code",
   "execution_count": null,
   "id": "89175cf9",
   "metadata": {},
   "outputs": [],
   "source": []
  }
 ],
 "metadata": {
  "kernelspec": {
   "display_name": "Python 3 (ipykernel)",
   "language": "python",
   "name": "python3"
  },
  "language_info": {
   "codemirror_mode": {
    "name": "ipython",
    "version": 3
   },
   "file_extension": ".py",
   "mimetype": "text/x-python",
   "name": "python",
   "nbconvert_exporter": "python",
   "pygments_lexer": "ipython3",
   "version": "3.10.8"
  }
 },
 "nbformat": 4,
 "nbformat_minor": 5
}
