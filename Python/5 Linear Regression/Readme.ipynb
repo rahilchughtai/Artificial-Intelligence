{
 "cells": [
  {
   "cell_type": "code",
   "execution_count": null,
   "id": "8f91c59d",
   "metadata": {},
   "outputs": [],
   "source": [
    "from IPython.core.display import HTML\n",
    "with open('../style.css', 'r') as f:\n",
    "    css = f.read()\n",
    "HTML(css)"
   ]
  },
  {
   "cell_type": "markdown",
   "id": "4993a410",
   "metadata": {},
   "source": [
    "The notebooks in this directory should be read in the following order:\n",
    "* [1-Simple-Linear-Regression](./1-Simple-Linear-Regression.ipynb) discusses the form of linear regression where we have only one independent variable.\n",
    "* [2-Simple-Linear-Regression-Function](./2-Simple-Linear-Regression-Function.ipynb) again implements simple linear regression.  Since the code is encapsulated in functions, we can now choose between different independent variables.\n",
    "* [3-Simple-Linear-Regression-with-SciKit-Learn](./3-Simple-Linear-Regression-with-SciKit-Learn.ipynb) \n",
    "discusses how *simple linear regression* is done with `scikit-learn`.\n",
    "* [4-Corona](./3-Corona.ipynb) shows how linear regression can be used to forecast the number of cases of an infectious disease at the beginning of an epidemic.\n",
    "* [5-Vectorization-with-Numpy](./5-Vectorization-with-Numpy.ipynb) shows that it is much faster to perform vector operations with `NumPy` than coding these by hand using lists.\n",
    "* [6-Linear-Regression](./6-Linear-Regression.ipynb) discusses *general linear regression*, i.e. we discuss the case where there are many independent variables that determine the dependent variable.\n",
    "* [7-Linear-Regression-with-SciKit-Learn](./7-Linear-Regression-with-SciKit-Learn.ipynb) discusses how *general linear regression* is done with `scikit-learn`."
   ]
  },
  {
   "cell_type": "code",
   "execution_count": null,
   "id": "d8908b42",
   "metadata": {},
   "outputs": [],
   "source": []
  }
 ],
 "metadata": {
  "kernelspec": {
   "display_name": "Python 3 (ipykernel)",
   "language": "python",
   "name": "python3"
  },
  "language_info": {
   "codemirror_mode": {
    "name": "ipython",
    "version": 3
   },
   "file_extension": ".py",
   "mimetype": "text/x-python",
   "name": "python",
   "nbconvert_exporter": "python",
   "pygments_lexer": "ipython3",
   "version": "3.10.9"
  }
 },
 "nbformat": 4,
 "nbformat_minor": 5
}
