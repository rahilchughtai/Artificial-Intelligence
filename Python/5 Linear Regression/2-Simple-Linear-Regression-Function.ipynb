{
 "cells": [
  {
   "cell_type": "code",
   "execution_count": null,
   "metadata": {},
   "outputs": [],
   "source": [
    "from IPython.core.display import HTML\n",
    "with open (\"../style.css\", \"r\") as file:\n",
    "    css = file.read()\n",
    "HTML(css)"
   ]
  },
  {
   "cell_type": "markdown",
   "metadata": {},
   "source": [
    "# Simple Linear Regression\n",
    "\n",
    "In this notebook we again analyse the data from the file `cars.csv`.  However, this time we try to determine the independent variable that is best for explaining the fuel consumption.  To this end, we will encapsulate the relevant code into functions so that it is easier to reuse."
   ]
  },
  {
   "cell_type": "markdown",
   "metadata": {},
   "source": [
    "We need to read our data from a <tt>csv</tt> file.  The module `csv` offers a number of functions for reading and writing a <tt>csv</tt> file."
   ]
  },
  {
   "cell_type": "code",
   "execution_count": null,
   "metadata": {},
   "outputs": [],
   "source": [
    "import csv"
   ]
  },
  {
   "cell_type": "markdown",
   "metadata": {},
   "source": [
    "Let us read the data."
   ]
  },
  {
   "cell_type": "code",
   "execution_count": null,
   "metadata": {
    "scrolled": true
   },
   "outputs": [],
   "source": [
    "with open('cars.csv') as handle:\n",
    "    reader = csv.DictReader(handle, delimiter=',')\n",
    "    Data   = [] # engine displacement\n",
    "    for row in reader:\n",
    "        Data.append(row)"
   ]
  },
  {
   "cell_type": "code",
   "execution_count": null,
   "metadata": {},
   "outputs": [],
   "source": [
    "Data[:5]"
   ]
  },
  {
   "cell_type": "code",
   "execution_count": null,
   "metadata": {},
   "outputs": [],
   "source": [
    "import numpy as np"
   ]
  },
  {
   "cell_type": "markdown",
   "metadata": {},
   "source": [
    "The function `simple_linear_regression` takes two arguments:\n",
    "* `X` is a numpy vector of $n$ independent variables.\n",
    "* `Y` is a numpy vector of dependent variables of the same length as `X`.\n",
    "The function computes the linear model\n",
    "$$ Y_i = \\vartheta_0 + \\vartheta_1 \\cdot X_i $$\n",
    "in a way that the *residual sum of squares* \n",
    "$$ \\texttt{RSS} = \\sum\\limits_{i=0}^{n-1} (\\theta_0 + \\theta_1 \\cdot X_i - Y_i)^2 $$\n",
    "is minimized.\n",
    "\n",
    "It returns the *coefficient of determination* \n",
    "$$ R^2 = 1 - \\frac{\\texttt{RSS}}{\\texttt{TSS}}  $$\n",
    "where $\\texttt{TSS}$ is the *total sum of squares*, which is defined as follows:\n",
    "$$ \\texttt{TSS} = \\sum\\limits_{i=0}^{n-1} (\\bar{Y} - Y_i)^2 $$"
   ]
  },
  {
   "cell_type": "code",
   "execution_count": null,
   "metadata": {},
   "outputs": [],
   "source": [
    "def simple_linear_regression(X, Y):\n",
    "    xMean = np.mean(X)\n",
    "    yMean = np.mean(Y)\n",
    "    ϑ1    = np.sum((X - xMean) * (Y - yMean)) / np.sum((X - xMean) ** 2)\n",
    "    ϑ0    = yMean - ϑ1 * xMean\n",
    "    TSS   = np.sum((Y - yMean) ** 2)\n",
    "    RSS   = np.sum((ϑ1 * X + ϑ0 - Y) ** 2)\n",
    "    R2    = 1 - RSS/TSS\n",
    "    return R2"
   ]
  },
  {
   "cell_type": "markdown",
   "metadata": {},
   "source": [
    "The function `coefficient_of_determination` takes to arguments:\n",
    "* `name` is the name of an attribute that should serve as the independent variable.\n",
    "* `Data` is an array of dictionary containing the values of various variables.\n",
    "\n",
    "The function prints the *coefficient of determination* if the given attribute is used to predict the fuel consumption."
   ]
  },
  {
   "cell_type": "code",
   "execution_count": null,
   "metadata": {},
   "outputs": [],
   "source": [
    "def coefficient_of_determination(name, Data):\n",
    "    X  = np.array([float(line[name])    for line in Data])\n",
    "    Y  = np.array([1/float(line['mpg']) for line in Data])\n",
    "    R2 = simple_linear_regression(X, Y)\n",
    "    print(f'coefficient of determination of fuel consumption w.r.t. {name:12s}: {round(R2, 2)}')"
   ]
  },
  {
   "cell_type": "code",
   "execution_count": null,
   "metadata": {},
   "outputs": [],
   "source": [
    "DependentVars = ['cyl', 'displacement', 'hp', 'weight', 'acc', 'year']"
   ]
  },
  {
   "cell_type": "code",
   "execution_count": null,
   "metadata": {},
   "outputs": [],
   "source": [
    "for name in DependentVars:\n",
    "    coefficient_of_determination(name, Data)"
   ]
  },
  {
   "cell_type": "code",
   "execution_count": null,
   "metadata": {},
   "outputs": [],
   "source": []
  }
 ],
 "metadata": {
  "kernelspec": {
   "display_name": "Python 3 (ipykernel)",
   "language": "python",
   "name": "python3"
  },
  "language_info": {
   "codemirror_mode": {
    "name": "ipython",
    "version": 3
   },
   "file_extension": ".py",
   "mimetype": "text/x-python",
   "name": "python",
   "nbconvert_exporter": "python",
   "pygments_lexer": "ipython3",
   "version": "3.10.4"
  },
  "toc": {
   "base_numbering": 1,
   "nav_menu": {},
   "number_sections": true,
   "sideBar": true,
   "skip_h1_title": false,
   "title_cell": "Table of Contents",
   "title_sidebar": "Contents",
   "toc_cell": false,
   "toc_position": {},
   "toc_section_display": true,
   "toc_window_display": false
  },
  "varInspector": {
   "cols": {
    "lenName": 16,
    "lenType": 16,
    "lenVar": 40
   },
   "kernels_config": {
    "python": {
     "delete_cmd_postfix": "",
     "delete_cmd_prefix": "del ",
     "library": "var_list.py",
     "varRefreshCmd": "print(var_dic_list())"
    },
    "r": {
     "delete_cmd_postfix": ") ",
     "delete_cmd_prefix": "rm(",
     "library": "var_list.r",
     "varRefreshCmd": "cat(var_dic_list()) "
    }
   },
   "types_to_exclude": [
    "module",
    "function",
    "builtin_function_or_method",
    "instance",
    "_Feature"
   ],
   "window_display": false
  }
 },
 "nbformat": 4,
 "nbformat_minor": 2
}
