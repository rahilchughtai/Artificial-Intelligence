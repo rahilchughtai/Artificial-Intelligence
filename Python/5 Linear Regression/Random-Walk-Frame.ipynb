{
 "cells": [
  {
   "cell_type": "code",
   "execution_count": null,
   "id": "40c01f47",
   "metadata": {},
   "outputs": [],
   "source": [
    "from IPython.core.display import HTML\n",
    "with open (\"../style.css\", \"r\") as file:\n",
    "    css = file.read()\n",
    "HTML(css)"
   ]
  },
  {
   "cell_type": "markdown",
   "id": "7d24e297",
   "metadata": {},
   "source": [
    "# 2D Random Walk"
   ]
  },
  {
   "cell_type": "code",
   "execution_count": null,
   "id": "e40bb8bb",
   "metadata": {},
   "outputs": [],
   "source": [
    "import random as rnd\n",
    "import math\n",
    "import numpy as np\n",
    "rnd.seed(42)"
   ]
  },
  {
   "cell_type": "markdown",
   "id": "9536817d",
   "metadata": {},
   "source": [
    "The function `walk` takes one parameter:\n",
    "* `n` is the number of steps that are taken.\n",
    "\n",
    "The function performs a two dimensional [random walk](https://en.wikipedia.org/wiki/Random_walk) of length `n` in a square grid.  At every step, the randowm walker chooses a direction from the set\n",
    "$$ \\{ \\texttt{north},  \\texttt{east},  \\texttt{south},  \\texttt{west} \\} $$\n",
    "and walks a distance of length $1$ in the choosen direction. \n",
    "\n",
    "The function returns two `numpy` arrays `X` and `Y` that are both of length `n + 1`.\n",
    "For all $i \\in \\{0, 1,\\cdots, n\\}$ we have that `X[i]` is the *x-coordinate* of\n",
    "the position of the random walker after the $i^\\textrm{th}$ step, while `Y[i]` is the *y-coordinate*.\n"
   ]
  },
  {
   "cell_type": "code",
   "execution_count": null,
   "id": "63ab6de5",
   "metadata": {},
   "outputs": [],
   "source": [
    "def walk(n):\n",
    "    X = np.zeros(n + 1, dtype=int)   # initialize X to contain n+1 zeros\n",
    "    Y = np.zeros(n + 1, dtype=int)   # initialize Y to contain n+1 zeros\n",
    "    \"your code here\"\n",
    "    return X, Y  "
   ]
  },
  {
   "cell_type": "code",
   "execution_count": null,
   "id": "1ce19bea",
   "metadata": {},
   "outputs": [],
   "source": [
    "X, Y = walk(10)\n",
    "X, Y"
   ]
  },
  {
   "cell_type": "code",
   "execution_count": null,
   "id": "2ab9d6c9",
   "metadata": {},
   "outputs": [],
   "source": [
    "import matplotlib.pyplot as plt\n",
    "import seaborn           as sns"
   ]
  },
  {
   "cell_type": "markdown",
   "id": "905ed1fb",
   "metadata": {},
   "source": [
    "The function `show_walk(n)` creates a random walk of `n` steps and displays it."
   ]
  },
  {
   "cell_type": "code",
   "execution_count": null,
   "id": "681544f7",
   "metadata": {},
   "outputs": [],
   "source": [
    "def show_walk(n):\n",
    "    X, Y = walk(n) \n",
    "    plt.figure(figsize=(12, 12))\n",
    "    sns.set(style='darkgrid')\n",
    "    size = 2 * math.trunc(math.sqrt(n))\n",
    "    if n <= 1_001:\n",
    "        step_size = 1\n",
    "    elif n <= 40_000:\n",
    "        step_size = 10\n",
    "    else:\n",
    "        step_size = 20\n",
    "    plt.xticks(ticks=range(-size, size, step_size))\n",
    "    plt.yticks(ticks=range(-size, size, step_size))\n",
    "    plt.plot(X, Y)\n",
    "    plt.title(f'Random walk of length {n}')"
   ]
  },
  {
   "cell_type": "code",
   "execution_count": null,
   "id": "b9c56eab",
   "metadata": {
    "scrolled": false
   },
   "outputs": [],
   "source": [
    "for n in [100, 1_000, 10_000, 40_000, 160_000, 250_000]:\n",
    "    show_walk(n)"
   ]
  },
  {
   "cell_type": "markdown",
   "id": "17e82325",
   "metadata": {},
   "source": [
    "The function `average_distance(trials, n)` performs `trials` random walks of length `n`.  It returns a  `numpy` array of length `n + 1` containing the *average* distances of the walker from the origin after `i` steps where $i \\in \\{0,1,\\cdots, n\\}$."
   ]
  },
  {
   "cell_type": "code",
   "execution_count": null,
   "id": "1cc83846",
   "metadata": {},
   "outputs": [],
   "source": [
    "def average_distance(trials, n):\n",
    "    \"your code here\""
   ]
  },
  {
   "cell_type": "markdown",
   "id": "15f462d3",
   "metadata": {},
   "source": [
    "For testing, define `trials` as `10_000`.  To get accurate results, we should set the number of trials to a million. "
   ]
  },
  {
   "cell_type": "code",
   "execution_count": null,
   "id": "af448440",
   "metadata": {},
   "outputs": [],
   "source": [
    "%%time\n",
    "trials = 10_000\n",
    "Distance = average_distance(trials, 100)\n",
    "Distance"
   ]
  },
  {
   "cell_type": "code",
   "execution_count": null,
   "id": "3a10b9bc",
   "metadata": {},
   "outputs": [],
   "source": [
    "def plot_distance(Distance):\n",
    "    X = np.array(range(101))\n",
    "    Y = Distance\n",
    "    plt.figure(figsize=(12, 10))\n",
    "    sns.set(style='darkgrid')\n",
    "    plt.xticks(ticks=range(0, 101, 10))\n",
    "    plt.scatter(X, Y, c='b', s=4) \n",
    "    plt.xlabel('number of steps')\n",
    "    plt.ylabel('distance from origin')\n",
    "    plt.title('Average distance of a random walker from the origin')"
   ]
  },
  {
   "cell_type": "code",
   "execution_count": null,
   "id": "e5e34e69",
   "metadata": {},
   "outputs": [],
   "source": [
    "plot_distance(Distance)"
   ]
  },
  {
   "cell_type": "code",
   "execution_count": null,
   "id": "416992d5",
   "metadata": {},
   "outputs": [],
   "source": [
    "def plot_logarithmic_distance(Distance):\n",
    "    X = np.log(np.array(range(1, 101)))\n",
    "    Y = np.log(Distance[1:])\n",
    "    plt.figure(figsize=(12, 10))\n",
    "    sns.set(style='darkgrid')\n",
    "    plt.scatter(X, Y, c='b', s=4) \n",
    "    plt.xlabel('logarithm of number of steps')\n",
    "    plt.ylabel('logarithm of distance from origin')\n",
    "    plt.title('Average distance of a random walker from the origin, log scale')"
   ]
  },
  {
   "cell_type": "code",
   "execution_count": null,
   "id": "79f46070",
   "metadata": {},
   "outputs": [],
   "source": [
    "plot_logarithmic_distance(Distance)"
   ]
  },
  {
   "cell_type": "code",
   "execution_count": null,
   "id": "65224382",
   "metadata": {},
   "outputs": [],
   "source": [
    "import sklearn.linear_model as lm"
   ]
  },
  {
   "cell_type": "markdown",
   "id": "170570ef",
   "metadata": {},
   "source": [
    "The function `linear_regression` takes one input:\n",
    "* `Distance` is a numpy array.  `Distance[i]` is the average distance\n",
    "  of the random walker after the $i^{th}$ step.\n",
    "  \n",
    "Our assumption is that $i$ and `Distance[i]` are related by a power law\n",
    "of the form\n",
    "$$ \\texttt{Distance}[i] = \\alpha \\cdot i^\\beta. $$\n",
    "The function estimates $\\alpha$ and $\\beta$ via an appropriate variation of linear regression and returns the pair $(\\alpha, \\beta)$."
   ]
  },
  {
   "cell_type": "code",
   "execution_count": null,
   "id": "de8f9742",
   "metadata": {},
   "outputs": [],
   "source": [
    "def linear_regression(Distance):\n",
    "    \"your code her\"\n",
    "    return 𝛼, 𝛽 "
   ]
  },
  {
   "cell_type": "code",
   "execution_count": null,
   "id": "302f3896",
   "metadata": {},
   "outputs": [],
   "source": [
    "𝛼,𝛽 = linear_regression(Distance)"
   ]
  },
  {
   "cell_type": "markdown",
   "id": "511fdbc5",
   "metadata": {},
   "source": [
    "Finally, we can print the formula we have found."
   ]
  },
  {
   "cell_type": "code",
   "execution_count": null,
   "id": "7c2443ad",
   "metadata": {},
   "outputs": [],
   "source": [
    "print(f'Distance[i] = {𝛼} * i^{𝛽}')"
   ]
  }
 ],
 "metadata": {
  "kernelspec": {
   "display_name": "Python 3 (ipykernel)",
   "language": "python",
   "name": "python3"
  },
  "language_info": {
   "codemirror_mode": {
    "name": "ipython",
    "version": 3
   },
   "file_extension": ".py",
   "mimetype": "text/x-python",
   "name": "python",
   "nbconvert_exporter": "python",
   "pygments_lexer": "ipython3",
   "version": "3.10.4"
  }
 },
 "nbformat": 4,
 "nbformat_minor": 5
}
